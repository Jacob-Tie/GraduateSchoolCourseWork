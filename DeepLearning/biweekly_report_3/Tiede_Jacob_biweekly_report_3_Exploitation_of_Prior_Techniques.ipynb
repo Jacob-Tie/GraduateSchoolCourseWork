{
 "cells": [
  {
   "cell_type": "markdown",
   "metadata": {},
   "source": [
    "# Biweekly-Checkin 3\n",
    "# Jacob Tiede\n",
    "## Exploitation of Prior Techniques\n",
    "I have spent the last 4 weeks developing a roster of techniques in order to work with most data types. To start this week off I want to take a second to use some of these techniques on data that interests me. To start I would like to explain a data-type that I have been studying for work outside of class.\n",
    "### GWAS Data:\n",
    "Genome Wide Association Studies have been performed for many years now, with their genesis really coming around the mid 2000s when it became cheap and easy to sequence large genomes. These studies used short sequences of highly recombinant DNA regions (regions of the genome that mutate frequently in a population) to try and extrapolate information about how different sections of the genome are related to each other as well as the phenotype (the outward expression of genes) of an individual. Traditionally, people analyze these genomic sequences using statistics which require several strong assumptions to work (for instance that each mutation that contributes to a disease makes its contribution linearly), but what happens when a disease violates these assumptions? This is a question that I would like to work on for my thesis, and my solution is to apply deep learning algorithms to this data. Deep learning requires no assumptions about the behavior of the data, so this has the potential to find links between genes, specific mutations, and pathologies that would not otherwise be possible. I would like to use section as a means of testing the viability of various deep learning approaches on this type of data. To do this I will perform a numerical experiment, but before we get to that I will briefly describe the structure of this data:\n",
    "#### Aside: The Structure of this Data\n",
    "To understand the values this data can take on one must first recall that humans are diploid organisms, meaning we have two copies of every chromosome in our genome. This means that for every possible viable mutation there are 3 possible values for a genotype. Let's say that at position 1 in the genome there is a viable mutation that our model keeps track of and the specific nucleotide change is A->T. If both of the alleles of an individual are A we will record that as a 0 in our data, if both are T this will be a 2 and if one is an A and the other is a T then a 1 is recorded. Note that this has nothing to do with the relationship of this mutation to the phenotype (as some genetics class will teach with discussion of dominant vs recessive genes), and is instead just an encoding of the genotype. This means that the rows of our data will represent an individual's genotype, while the columns represent what specific mutations we keep track of. It should also be noted that there is no particular order of the columns of this data set like there is with text or image data. If we permute the columns of GWAS data we should still get the same predictions, which presents a problem for some deep learning models. With this definition in mind I will now describe the numerical experiment that I would like to conduct.\n",
    "#### Numerical Experiment\n",
    "I would like to imagine a very simple pathology that is completely determined by two mutations in a single gene, these will be the first two columns in our dataset. If both of these mutations are a 2 then we will say that the person has the disorder, if only 1 is a 2 then there is a 50% chance of having the pathology, and if neither are 2s then we will definitely not have the pathology. Another note about this type of data is that 0 always represents the most common genotype in the population, so this data should have more 0s than non-zeros, we'll say that there's a 70% chance that a person has a 0, a 15% chance that a person has a 1, and a 15% chance that a person has a 2 for a particular mutation (for non-pathological genotypes). We can use random number generators to make a \"genome\" with these specifications:\n"
   ]
  },
  {
   "cell_type": "code",
   "execution_count": 1,
   "metadata": {},
   "outputs": [
    {
     "name": "stdout",
     "output_type": "stream",
     "text": [
      "Is a GPU available? \n"
     ]
    },
    {
     "data": {
      "text/plain": [
       "True"
      ]
     },
     "execution_count": 1,
     "metadata": {},
     "output_type": "execute_result"
    }
   ],
   "source": [
    "import torch\n",
    "import torch.nn as nn\n",
    "import torch.nn.functional as F\n",
    "import pandas as pd\n",
    "import numpy as np\n",
    "import time\n",
    "from sklearn.metrics import confusion_matrix\n",
    "import matplotlib.pyplot as plt\n",
    "print(\"Is a GPU available? \")\n",
    "torch.cuda.is_available()"
   ]
  },
  {
   "cell_type": "code",
   "execution_count": 2,
   "metadata": {},
   "outputs": [],
   "source": [
    "def generateData(m,n):\n",
    "    #start by generating a target, a 0 will represent that they do not have the pathology and a 1 will represent that they do have the pathology\n",
    "    target = torch.randint(0,2, size = (m,1))\n",
    "    \n",
    "    #Now we will generate the mxn matrix of genotypes:\n",
    "    data = torch.zeros(m,n)\n",
    "    for i in range(m):\n",
    "        #if this individual has the pathology\n",
    "        if target[i,0] == 1:\n",
    "            #flip a coin to determine if they have one or two pathological mutations\n",
    "            r = torch.rand(1,1)\n",
    "            if r <= 0.5:\n",
    "                data[i,0] = 2\n",
    "                data[i,1] = 2\n",
    "            else:\n",
    "                #flip a coin to determine which allel is a 2 \n",
    "                r = torch.rand(1,1)\n",
    "                if r <= .5:\n",
    "                    data[i,0] = 2\n",
    "                    data[i,1] = torch.randint(0,2, size = (1,1))\n",
    "                else:\n",
    "                    data[i,1] = 2\n",
    "                    data[i,0] = torch.randint(0,2, size = (1,1))\n",
    "            #determine the values of the rest of the mutations in this row\n",
    "            for j in range(2, n):\n",
    "                r = torch.rand(1,1)\n",
    "                #~70% of the other mutations are 0\n",
    "                if r <= .7:\n",
    "                    data[i,j] = 0\n",
    "                else:\n",
    "                    data[i,j] = torch.randint(1,3, size = (1,1))\n",
    "        #if they do not have the pathology\n",
    "        else:\n",
    "            r = torch.rand(1,1)\n",
    "            #right now 50% of the data has the pathology and the other 50% does not. That means that 25% of the data are positive with only 1 pathological mutation\n",
    "            #so we need to choose 25% of healthy individuals to have a pathological mutation to keep our statistics in line with the description\n",
    "            if r <= .25:\n",
    "                r = torch.rand(1,1)\n",
    "                if r <= .5:\n",
    "                    data[i,0] = 2\n",
    "                    data[i,1] = torch.randint(0,2, size = (1,1))\n",
    "                else:\n",
    "                    data[i,1] = 2\n",
    "                    data[i,0] = torch.randint(0,2, size = (1,1))\n",
    "            else:\n",
    "                data[i,1] = torch.randint(0,2, size = (1,1))\n",
    "                data[i,0] = torch.randint(0,2, size = (1,1))\n",
    "            for j in range(2, n):\n",
    "                r = torch.rand(1,1)\n",
    "                #~70% of the other mutations are 0\n",
    "                if r <= .7:\n",
    "                    data[i,j] = 0\n",
    "                else:\n",
    "                    data[i,j] = torch.randint(1,3, size = (1,1))\n",
    "    return data,target\n",
    "n=100\n",
    "data, target = generateData(2**14,n)\n",
    "testdata, testtarget = generateData(2**10,n)"
   ]
  },
  {
   "cell_type": "markdown",
   "metadata": {},
   "source": [
    "Now, I'd like to try some models on this: the first being logistic regression since that would be statisticians tool of choice for this problem."
   ]
  },
  {
   "cell_type": "code",
   "execution_count": 3,
   "metadata": {},
   "outputs": [],
   "source": [
    "#logistic regression can be thought of as a neural net with all inputs mapped to one neuron, and a sigmoid non-linearity\n",
    "class Net(nn.Module):\n",
    "    def __init__(self, n):\n",
    "        super(Net, self).__init__()\n",
    "        self.n = n\n",
    "        #Training doesn't do anything for this model, but I like to keep it around so I can adjust things quickly if need be\n",
    "        self.training = True\n",
    "        self.fc1 = nn.Linear(self.n,1)\n",
    "    def forward(self, x):\n",
    "        x = torch.sigmoid(self.fc1(x))\n",
    "        return x\n",
    "    def setTraining(self,x):\n",
    "        self.training = x\n",
    "model = Net(n)\n",
    "model = model.cuda()"
   ]
  },
  {
   "cell_type": "code",
   "execution_count": 4,
   "metadata": {},
   "outputs": [
    {
     "name": "stdout",
     "output_type": "stream",
     "text": [
      "[10,   256] loss: 0.611\n",
      "[20,   256] loss: 0.534\n",
      "[30,   256] loss: 0.481\n",
      "[40,   256] loss: 0.444\n",
      "[50,   256] loss: 0.419\n",
      "[60,   256] loss: 0.402\n",
      "[70,   256] loss: 0.391\n",
      "[80,   256] loss: 0.383\n",
      "[90,   256] loss: 0.378\n",
      "[100,   256] loss: 0.375\n",
      "[110,   256] loss: 0.372\n",
      "[120,   256] loss: 0.370\n",
      "[130,   256] loss: 0.368\n",
      "[140,   256] loss: 0.367\n",
      "[150,   256] loss: 0.366\n",
      "[160,   256] loss: 0.365\n",
      "[170,   256] loss: 0.364\n",
      "[180,   256] loss: 0.363\n",
      "[190,   256] loss: 0.363\n",
      "[200,   256] loss: 0.362\n"
     ]
    },
    {
     "data": {
      "image/png": "[encoded data removed]",
      "text/plain": [
       "<Figure size 432x288 with 1 Axes>"
      ]
     },
     "metadata": {
      "needs_background": "light"
     },
     "output_type": "display_data"
    }
   ],
   "source": [
    "epochs = 200\n",
    "criterion = nn.BCELoss()\n",
    "optimizer = torch.optim.Adam(model.parameters(), lr=.0001)\n",
    "#we'll use a batch size of 64 which makes steps as the number of complete batches our generated data has\n",
    "steps = int(np.floor(data.shape[0]/64))\n",
    "#number of complete batches in the testing set\n",
    "stepstest = int(np.floor(testdata.shape[0]/64))\n",
    "\n",
    "#make some arrays to keep track of the losses for the train and test set\n",
    "trainlosses_log = []\n",
    "testlosses_log = []\n",
    "epoch = []\n",
    "\n",
    "for i in range(epochs):\n",
    "    model.setTraining(True)\n",
    "    running_loss = 0\n",
    "    for j in range(steps):\n",
    "        optimizer.zero_grad()\n",
    "        batch = data[j*64:(j+1)*64,:]\n",
    "        batch = batch.cuda()\n",
    "        batch_target = target[j*64:(j+1)*64, :]\n",
    "        batch_target = batch_target.cuda()\n",
    "        outputs = model(batch.float())\n",
    "        #our loss is calculated using cross entropy\n",
    "        loss = criterion(outputs, batch_target.float())\n",
    "        #calculate the gradients and take a step using the optimizer\n",
    "        loss.backward()\n",
    "        optimizer.step()\n",
    "        running_loss+=loss.item()\n",
    "        #If we are at the end of an epoch we will find an record statistics including the test loss and train loss\n",
    "        if j == steps-1:\n",
    "            with torch.no_grad():\n",
    "                running_testLoss = 0\n",
    "                #tell the model that we are evaluating\n",
    "                model.setTraining(False)\n",
    "                model.eval()\n",
    "                #Initialize pred on last epoch for confusion matrix\n",
    "                if i == epochs-1: pred = torch.zeros((64*stepstest,1)).cuda()\n",
    "                for k in range(stepstest):\n",
    "                    batch = testdata[k*64:(k+1)*64,:]\n",
    "                    batch = batch.cuda()\n",
    "                    batch_target = testtarget[k*64:(k+1)*64, :]\n",
    "                    batch_target = batch_target.cuda()\n",
    "                    outputs = model(batch.float())\n",
    "                    \n",
    "                    #save predictions for a confusion matrix:\n",
    "                    if i == epochs-1: pred[k*64:(k+1)*64] = outputs\n",
    "                    loss = criterion(outputs, batch_target.float())\n",
    "                    running_testLoss+=loss.item()\n",
    "                \n",
    "                    \n",
    "                trainlosses_log.append(running_loss / steps)\n",
    "                testlosses_log.append(running_testLoss/stepstest)\n",
    "                epoch.append(i)\n",
    "                #set model to train again\n",
    "                model.train()\n",
    "            if j == steps-1 and i%10 == 9:\n",
    "                print('[%d, %5d] loss: %.3f' %\n",
    "                      (i + 1, j + 1, running_loss / steps))\n",
    "#plot testing and training loss\n",
    "line1, = plt.plot(trainlosses_log, label=\"Loss on the train set\", linestyle='--')\n",
    "line2, = plt.plot(testlosses_log, label=\"Loss on the test set\", linewidth=4)\n",
    "\n",
    "# Create a legend for the first line.\n",
    "first_legend = plt.legend(handles=[line1, line2], loc='upper right')\n",
    "\n",
    "plt.show() \n"
   ]
  },
  {
   "cell_type": "code",
   "execution_count": 5,
   "metadata": {},
   "outputs": [
    {
     "name": "stdout",
     "output_type": "stream",
     "text": [
      "The confusion matrix of logistic regression is:\n",
      "[[406 109]\n",
      " [ 90 419]]\n"
     ]
    }
   ],
   "source": [
    "pred = pred.cpu()\n",
    "for i in range(pred.shape[0]):\n",
    "    if pred[i,0] > .5:\n",
    "        pred[i,0] = 1\n",
    "    else:\n",
    "        pred[i,0] = 0\n",
    "print(\"The confusion matrix of logistic regression is:\")\n",
    "print(confusion_matrix(testtarget, pred))"
   ]
  },
  {
   "cell_type": "markdown",
   "metadata": {},
   "source": [
    "Quickly, let's find the Bayes limit of this data set, if we used an ideal prediction strategy. We are using binary cross entropy for our loss, and we have fixed the data so that ~50% of the data is ambiguous, so a perfect strategy would always correctly predict half the data, and have a 50-50 chance of getting the other half right. In binary cross entropy this would be a loss of $-\\frac{1}{2}*log(1/2) \\approx .34$, so we can see that logistic regression does not pick up on the perfect strategy. Now, to better understand confusion matrices we can use this article as a guide: https://towardsdatascience.com/understanding-confusion-matrix-a9ad42dcfd62. We can see that our model makes similar errors in false positives and false negatives (false positives have a count of 87 and false negatives have a count of 95), but the article details that these metrics are not the best for determining which model is performing better than another. For that we will use an F-measure, which is defined as $\\frac{2*recall*precision}{recall+precision}$. Finding this metric for logistic regression gives:\n"
   ]
  },
  {
   "cell_type": "code",
   "execution_count": 6,
   "metadata": {},
   "outputs": [
    {
     "name": "stdout",
     "output_type": "stream",
     "text": [
      "The precision of logistic regression is: 0.7883495145631068\n",
      "The recall of logistic regression is: 0.8185483870967742\n",
      "The F-measure of logistic regression is: 0.8031651829871415\n"
     ]
    }
   ],
   "source": [
    "conMatrix = confusion_matrix(testtarget, pred)\n",
    "precision = conMatrix[0,0]/(conMatrix[0,0]+conMatrix[0,1])\n",
    "recall = conMatrix[0,0]/(conMatrix[0,0]+conMatrix[1,0])\n",
    "print(\"The precision of logistic regression is: \" + str(precision))\n",
    "print(\"The recall of logistic regression is: \" + str(recall))\n",
    "print(\"The F-measure of logistic regression is: \" + str(2*recall*precision/(recall+precision)))"
   ]
  },
  {
   "cell_type": "markdown",
   "metadata": {},
   "source": [
    "Since there measures are best for comparisons of models I will hold off on interpreting them for now. Next, I would like to try a conventional neural net with dropout regularization:"
   ]
  },
  {
   "cell_type": "code",
   "execution_count": 7,
   "metadata": {},
   "outputs": [],
   "source": [
    "class Net(nn.Module):\n",
    "    def __init__(self, n):\n",
    "        super(Net, self).__init__()\n",
    "        self.n = n\n",
    "        self.training = True\n",
    "        self.fc1 = nn.Linear(self.n,25)\n",
    "        self.drop1 = nn.Dropout(.5)\n",
    "        self.fc2 = nn.Linear(25,10)\n",
    "        self.drop2 = nn.Dropout(.5)\n",
    "        self.fc3 = nn.Linear(10,1)\n",
    "    def forward(self, x):\n",
    "        x = F.relu(self.fc1(x))\n",
    "        if self.training:\n",
    "            x = self.drop1(x)\n",
    "        x = F.relu(self.fc2(x))\n",
    "        if self.training:\n",
    "            x=self.drop2(x)\n",
    "        x = torch.sigmoid(self.fc3(x))\n",
    "        return x\n",
    "    def setTraining(self,x):\n",
    "        self.training = x\n",
    "model = Net(100)\n",
    "model = model.cuda()"
   ]
  },
  {
   "cell_type": "code",
   "execution_count": 8,
   "metadata": {},
   "outputs": [
    {
     "name": "stdout",
     "output_type": "stream",
     "text": [
      "[10,   256] loss: 0.540\n",
      "[20,   256] loss: 0.464\n",
      "[30,   256] loss: 0.441\n",
      "[40,   256] loss: 0.414\n",
      "[50,   256] loss: 0.395\n",
      "[60,   256] loss: 0.380\n",
      "[70,   256] loss: 0.362\n",
      "[80,   256] loss: 0.354\n",
      "[90,   256] loss: 0.347\n",
      "[100,   256] loss: 0.341\n",
      "[110,   256] loss: 0.334\n",
      "[120,   256] loss: 0.327\n",
      "[130,   256] loss: 0.323\n",
      "[140,   256] loss: 0.322\n",
      "[150,   256] loss: 0.317\n",
      "[160,   256] loss: 0.312\n",
      "[170,   256] loss: 0.310\n",
      "[180,   256] loss: 0.309\n",
      "[190,   256] loss: 0.306\n",
      "[200,   256] loss: 0.305\n"
     ]
    },
    {
     "data": {
      "image/png": "[encoded data removed]",
      "text/plain": [
       "<Figure size 432x288 with 1 Axes>"
      ]
     },
     "metadata": {
      "needs_background": "light"
     },
     "output_type": "display_data"
    }
   ],
   "source": [
    "#Code here is without comments since it is the same as the prior training loop\n",
    "epochs = 200\n",
    "criterion = nn.BCELoss()\n",
    "optimizer = torch.optim.Adam(model.parameters(), lr=.0001)\n",
    "steps = int(np.floor(data.shape[0]/64))\n",
    "trainlosses_net = []\n",
    "testlosses_net = []\n",
    "epoch = []\n",
    "stepstest = int(np.floor(testdata.shape[0]/64))\n",
    "for i in range(epochs):\n",
    "    model.setTraining(True)\n",
    "    running_loss = 0\n",
    "    for j in range(steps):\n",
    "        optimizer.zero_grad()\n",
    "        batch = data[j*64:(j+1)*64,:]\n",
    "        batch = batch.cuda()\n",
    "        batch_target = target[j*64:(j+1)*64, :]\n",
    "        batch_target = batch_target.cuda()\n",
    "        outputs = model(batch.float())\n",
    "        loss = criterion(outputs, batch_target.float())\n",
    "        loss.backward()\n",
    "        optimizer.step()\n",
    "        running_loss+=loss.item()\n",
    "        if j == steps-1:\n",
    "            with torch.no_grad():\n",
    "                running_testLoss = 0\n",
    "                model.setTraining(False)\n",
    "                model.eval()\n",
    "                if i == epochs-1: pred = torch.zeros((64*stepstest,1)).cuda()\n",
    "                for k in range(stepstest):\n",
    "                    batch = testdata[k*64:(k+1)*64,:]\n",
    "                    batch = batch.cuda()\n",
    "                    batch_target = testtarget[k*64:(k+1)*64, :]\n",
    "                    batch_target = batch_target.cuda()\n",
    "                    outputs = model(batch.float())\n",
    "                    if i == epochs-1: pred[k*64:(k+1)*64] = outputs\n",
    "                    loss = criterion(outputs, batch_target.float())\n",
    "                    running_testLoss+=loss.item()\n",
    "                \n",
    "                    \n",
    "                trainlosses_net.append(running_loss / steps)\n",
    "                testlosses_net.append(running_testLoss/stepstest)\n",
    "                epoch.append(i)\n",
    "                model.train()\n",
    "            if j == steps-1 and i%10 == 9:\n",
    "                print('[%d, %5d] loss: %.3f' %\n",
    "                      (i + 1, j + 1, running_loss / steps))\n",
    "line1, = plt.plot(trainlosses_net, label=\"Loss on the train set\", linestyle='--')\n",
    "line2, = plt.plot(testlosses_net, label=\"Loss on the test set\", linewidth=4)\n",
    "\n",
    "# Create a legend for the first line.\n",
    "first_legend = plt.legend(handles=[line1,line2], loc='upper right')\n",
    "\n",
    "# Add the legend manually to the current Axes.\n",
    "ax = plt.gca().add_artist(first_legend)\n",
    "\n",
    "\n",
    "\n",
    "plt.show() "
   ]
  },
  {
   "cell_type": "code",
   "execution_count": 9,
   "metadata": {},
   "outputs": [
    {
     "name": "stdout",
     "output_type": "stream",
     "text": [
      "The confusion matrix of a simple neural net is:\n",
      "[[391 124]\n",
      " [ 23 486]]\n",
      "The precision of a simple neural net is: 0.7592233009708738\n",
      "The recall of a simple neural net is: 0.9444444444444444\n",
      "The F-measure of a simple neural net is: 0.8417653390742733\n"
     ]
    }
   ],
   "source": [
    "pred = pred.cpu()\n",
    "for i in range(pred.shape[0]):\n",
    "    if pred[i,0] > .5:\n",
    "        pred[i,0] = 1\n",
    "    else:\n",
    "        pred[i,0] = 0\n",
    "print(\"The confusion matrix of a simple neural net is:\")\n",
    "print(confusion_matrix(testtarget, pred))\n",
    "conMatrix = confusion_matrix(testtarget, pred)\n",
    "precision = conMatrix[0,0]/(conMatrix[0,0]+conMatrix[0,1])\n",
    "recall = conMatrix[0,0]/(conMatrix[0,0]+conMatrix[1,0])\n",
    "print(\"The precision of a simple neural net is: \" + str(precision))\n",
    "print(\"The recall of a simple neural net is: \" + str(recall))\n",
    "print(\"The F-measure of a simple neural net is: \" + str(2*recall*precision/(recall+precision)))"
   ]
  },
  {
   "cell_type": "markdown",
   "metadata": {},
   "source": [
    "We've actually converged to a loss that is lower than what is theoretically possible, but this might be due to the fact that we are using pseudo-random numbers to generate the data. However, even though results are encouraging, picking up on statistical aberrations is something that I would want to avoid on a real dataset. We can also note that we have a higher F-measure (which implies that our model is performing better in general), but this performance increase is almost entirely from recall (meaning our false negative rate has substantially dropped). In fact, we can see that this model is actually less precise than logistic regression (the false positive rate has increased), though since their composite measure is still higher I will conclude that a simple neural net does outperform logistic regression. Last week, I learned about TabNet, and I would like to see how it performs. I'll use the library implementation that I briefly looked at last week (found here: https://github.com/dreamquark-ai/tabnet, NOTE: what I have implemented here is not a typical use case for this library, and I had to go through the source code to find the class that I needed as well as how to do the feature attribution. This does not represent a well documented use case for this library):"
   ]
  },
  {
   "cell_type": "code",
   "execution_count": 23,
   "metadata": {},
   "outputs": [],
   "source": [
    "from pytorch_tabnet.tab_network import TabNetNoEmbeddings\n",
    "\n",
    "class Net(nn.Module):\n",
    "    def __init__(self, n):\n",
    "        super(Net, self).__init__()\n",
    "        self.n = n\n",
    "        self.tab = TabNetNoEmbeddings(n, 1)\n",
    "    def forward(self, x):\n",
    "        x = self.tab(x)\n",
    "        return x\n",
    "    def getMasks(self, x):\n",
    "        return self.tab.forward_masks(x)\n",
    "\n",
    "model = Net(100)\n",
    "model = Net(n)\n",
    "model = model.cuda()"
   ]
  },
  {
   "cell_type": "code",
   "execution_count": 24,
   "metadata": {},
   "outputs": [
    {
     "name": "stdout",
     "output_type": "stream",
     "text": [
      "[10,    64] loss: 0.245\n",
      "[20,    64] loss: 0.245\n",
      "[30,    64] loss: 0.244\n",
      "[40,    64] loss: 0.242\n",
      "[50,    64] loss: 0.239\n",
      "[60,    64] loss: 0.247\n",
      "[70,    64] loss: 0.234\n",
      "[80,    64] loss: 0.233\n",
      "[90,    64] loss: 0.233\n",
      "[100,    64] loss: 0.232\n",
      "[110,    64] loss: 0.233\n",
      "[120,    64] loss: 0.230\n",
      "[130,    64] loss: 0.232\n",
      "[140,    64] loss: 0.259\n",
      "[150,    64] loss: 0.229\n",
      "[160,    64] loss: 0.232\n",
      "[170,    64] loss: 0.224\n",
      "[180,    64] loss: 0.215\n",
      "[190,    64] loss: 0.217\n",
      "[200,    64] loss: 0.207\n"
     ]
    },
    {
     "data": {
      "image/png": "[encoded data removed]",
      "text/plain": [
       "<Figure size 432x288 with 1 Axes>"
      ]
     },
     "metadata": {
      "needs_background": "light"
     },
     "output_type": "display_data"
    }
   ],
   "source": [
    "epochs = 200\n",
    "batch_size = 128*2\n",
    "criterion = nn.BCELoss()\n",
    "optimizer = torch.optim.Adam(model.parameters(), lr=2e-2)\n",
    "steps = int(np.floor(data.shape[0]/batch_size))\n",
    "trainlosses_net = []\n",
    "testlosses_net = []\n",
    "epoch = []\n",
    "stepstest = int(np.floor(testdata.shape[0]/batch_size))\n",
    "for i in range(epochs):\n",
    "    running_loss = 0\n",
    "    for j in range(steps):\n",
    "        optimizer.zero_grad()\n",
    "        batch = data[j*batch_size:(j+1)*batch_size,:]\n",
    "        batch = batch.cuda()\n",
    "        batch_target = target[j*batch_size:(j+1)*batch_size, :]\n",
    "        batch_target = batch_target.cuda()\n",
    "        outputs = model(batch.float())\n",
    "        #note that tabnet outputs two values, first the actual predictions of the model, and second the mask loss that we discussed last week\n",
    "        #these must both be summed in the loss, with a small regularizing factor applied to the mask loss\n",
    "        loss = criterion(torch.sigmoid(outputs[0]), batch_target.float()) - outputs[1]*.001\n",
    "        #calculate the gradients and take a step using the optimizer\n",
    "        loss.backward()\n",
    "        optimizer.step()\n",
    "        running_loss+=loss.item()\n",
    "        if j == steps-1:\n",
    "            running_testLoss = 0\n",
    "            if i == epochs-1: pred = torch.zeros((batch_size*stepstest,1)).cuda()\n",
    "            for k in range(stepstest):\n",
    "                batch = testdata[k*batch_size:(k+1)*batch_size,:]\n",
    "                batch = batch.cuda()\n",
    "                batch_target = testtarget[k*batch_size:(k+1)*batch_size, :]\n",
    "                batch_target = batch_target.cuda()\n",
    "                outputs = model(batch.float())\n",
    "                if i == epochs-1: pred[k*batch_size:(k+1)*batch_size] = outputs[0]\n",
    "                loss = criterion(torch.sigmoid(outputs[0]), batch_target.float())\n",
    "                running_testLoss+=loss.item()\n",
    "            trainlosses_net.append(running_loss / steps)\n",
    "            testlosses_net.append(running_testLoss/stepstest)\n",
    "            epoch.append(i)\n",
    "            if j == steps-1 and i%10 == 9:\n",
    "                print('[%d, %5d] loss: %.3f' %\n",
    "                      (i + 1, j + 1, running_loss / steps))\n",
    "line1, = plt.plot(trainlosses_net, label=\"Loss on the train set\", linestyle='--')\n",
    "line2, = plt.plot(testlosses_net, label=\"Loss on the test set\", linewidth=4)\n",
    "\n",
    "# Create a legend for the first line.\n",
    "first_legend = plt.legend(handles=[line1,line2], loc='upper right')\n",
    "\n",
    "# Add the legend manually to the current Axes.\n",
    "ax = plt.gca().add_artist(first_legend)\n",
    "\n",
    "\n",
    "\n",
    "plt.show() "
   ]
  },
  {
   "cell_type": "code",
   "execution_count": 25,
   "metadata": {},
   "outputs": [
    {
     "name": "stdout",
     "output_type": "stream",
     "text": [
      "The confusion matrix of TabNet is:\n",
      "[[442  73]\n",
      " [ 99 410]]\n",
      "The precision of TabNet is: 0.858252427184466\n",
      "The recall of TabNet is: 0.8170055452865065\n",
      "The F-measure of TabNet is: 0.8371212121212123\n",
      "The feature importances of each column in our data set are: \n",
      "tensor([5.5509e-01, 3.4198e-01, 0.0000e+00, 1.2691e-04, 0.0000e+00, 0.0000e+00,\n",
      "        0.0000e+00, 0.0000e+00, 0.0000e+00, 0.0000e+00, 0.0000e+00, 0.0000e+00,\n",
      "        1.9661e-03, 0.0000e+00, 0.0000e+00, 0.0000e+00, 0.0000e+00, 0.0000e+00,\n",
      "        0.0000e+00, 0.0000e+00, 0.0000e+00, 0.0000e+00, 0.0000e+00, 0.0000e+00,\n",
      "        0.0000e+00, 0.0000e+00, 0.0000e+00, 0.0000e+00, 0.0000e+00, 0.0000e+00,\n",
      "        0.0000e+00, 0.0000e+00, 0.0000e+00, 0.0000e+00, 0.0000e+00, 5.8200e-02,\n",
      "        0.0000e+00, 0.0000e+00, 0.0000e+00, 0.0000e+00, 0.0000e+00, 0.0000e+00,\n",
      "        0.0000e+00, 0.0000e+00, 0.0000e+00, 0.0000e+00, 0.0000e+00, 0.0000e+00,\n",
      "        0.0000e+00, 0.0000e+00, 0.0000e+00, 0.0000e+00, 0.0000e+00, 0.0000e+00,\n",
      "        0.0000e+00, 1.8019e-02, 0.0000e+00, 0.0000e+00, 0.0000e+00, 0.0000e+00,\n",
      "        0.0000e+00, 0.0000e+00, 0.0000e+00, 0.0000e+00, 0.0000e+00, 0.0000e+00,\n",
      "        0.0000e+00, 0.0000e+00, 0.0000e+00, 0.0000e+00, 0.0000e+00, 0.0000e+00,\n",
      "        0.0000e+00, 0.0000e+00, 0.0000e+00, 0.0000e+00, 0.0000e+00, 0.0000e+00,\n",
      "        0.0000e+00, 0.0000e+00, 0.0000e+00, 0.0000e+00, 0.0000e+00, 0.0000e+00,\n",
      "        0.0000e+00, 0.0000e+00, 0.0000e+00, 0.0000e+00, 0.0000e+00, 0.0000e+00,\n",
      "        0.0000e+00, 0.0000e+00, 0.0000e+00, 0.0000e+00, 1.4505e-02, 0.0000e+00,\n",
      "        0.0000e+00, 0.0000e+00, 0.0000e+00, 1.0117e-02],\n",
      "       grad_fn=<DivBackward0>)\n"
     ]
    }
   ],
   "source": [
    "pred = pred.detach().cpu()\n",
    "for i in range(pred.shape[0]):\n",
    "    if pred[i,0] > .5:\n",
    "        pred[i,0] = 1\n",
    "    else:\n",
    "        pred[i,0] = 0\n",
    "print(\"The confusion matrix of TabNet is:\")\n",
    "print(confusion_matrix(testtarget, pred))\n",
    "conMatrix = confusion_matrix(testtarget, pred)\n",
    "precision = conMatrix[0,0]/(conMatrix[0,0]+conMatrix[0,1])\n",
    "recall = conMatrix[0,0]/(conMatrix[0,0]+conMatrix[1,0])\n",
    "print(\"The precision of TabNet is: \" + str(precision))\n",
    "print(\"The recall of TabNet is: \" + str(recall))\n",
    "print(\"The F-measure of TabNet is: \" + str(2*recall*precision/(recall+precision)))\n",
    "print(\"The feature importances of each column in our data set are: \")\n",
    "x,y = model.getMasks(testdata[0:batch_size,:].cuda())\n",
    "feature_importances_ = torch.zeros(100)\n",
    "feature_importances_ += x.sum(dim=0).cpu()\n",
    "print(feature_importances_ / torch.sum(feature_importances_))"
   ]
  },
  {
   "cell_type": "markdown",
   "metadata": {},
   "source": [
    "To start, we notice that the F-measure for TabNet is actually lower than the less complex method methods despite its minimal losses. This is due in large part to the recall measure (a measure of the false negative rate). For me, this is actually okay, because for the applications that I foresee for this model, having high precision is the most important factor. This is because the main application of this model will be predicting which genes are involved with a particular pathology, so if the false negative rate is high we might miss out on a few pathologically relevant genes, but that is a lot better than generating so many potentially pathologically relevant genes that you don't have any idea how the pathology actually affects the body. In this way having false positives (which would potentially incorporate irrelevant information into the model) is actually more important than false negatives (potentially missing out on bits of relevant information). You can see that this also converges below the theoretical minima (again most likely because we are using pseudo random numbers), and we do exhibit some overfitting. I think I definitely prefer using TabNet since it converges to a very low loss much faster than all of the other methods, and it comes with easily interpretable rationale for its decisions (in the form of feature attribution and mask aggregation which I went over in my last progress report, which correctly found that the first two genes are he only two that are relevent to the fake pathology). I would still like to avoid having the model pick up statistical aberrations, but I think that might be a tall order, though perhaps there is a regularization technique that I could use (such as dropout, L2 regularization, etc) for better results, but for now, I'm satisfied with these results as a first step toward larger application."
   ]
  },
  {
   "cell_type": "code",
   "execution_count": null,
   "metadata": {},
   "outputs": [],
   "source": []
  }
 ],
 "metadata": {
  "kernelspec": {
   "display_name": "Python 3",
   "language": "python",
   "name": "python3"
  },
  "language_info": {
   "codemirror_mode": {
    "name": "ipython",
    "version": 3
   },
   "file_extension": ".py",
   "mimetype": "text/x-python",
   "name": "python",
   "nbconvert_exporter": "python",
   "pygments_lexer": "ipython3",
   "version": "3.8.5"
  }
 },
 "nbformat": 4,
 "nbformat_minor": 4
}
