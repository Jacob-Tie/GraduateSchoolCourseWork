{
 "cells": [
  {
   "cell_type": "markdown",
   "metadata": {},
   "source": [
    "# Homework 3 - SVM and Regularization\n",
    "## CSCI 5622 - Spring 2019\n",
    "***\n",
    "**Name**: Jacob Tiede\n",
    "***\n",
    "\n",
    "This assignment is due on Canvas by **11.59 PM on Monday, March 16**. Submit only this Jupyter notebook to Canvas.  Do not compress it using tar, rar, zip, etc. Your solutions to analysis questions should be done in Markdown directly below the associated question.  Remember that you are encouraged to discuss the problems with your classmates and instructors, but **you must write all code and solutions on your own**, and list any people or sources consulted.\n",
    "\n",
    "Portions of this assignment, including the plotting functions used, are implemented from Andrew Ng's Machine Learning course."
   ]
  },
  {
   "cell_type": "markdown",
   "metadata": {},
   "source": [
    "## Part 1: Lasso and Ridge regression - 40 points"
   ]
  },
  {
   "cell_type": "markdown",
   "metadata": {},
   "source": [
    "We have seen that the difference between LASSO and Ridge regression is due to their different regularization model (L1 norm vs. L2 norm). The regularization term in LASSO is $\\lambda||\\mathbf w||_1$, while the regularization term in ridge regression is  $(\\lambda/2) ||\\mathbf w||^2$ (where $\\mathbf w$ denotes the set of parameters for the linear regression model and $\\lambda$ is the trade-off regularization parameter). LASSO typically enforces more _sparsity_ on the resulting $\\mathbf w$. That is, the resulting classifier will have a small number of non-zero weights. In this exercise, you'll explore differences in performance between LASSO and Ridge regression algorithms across a few different data sets.\n",
    "\n",
    "You will be using the following data sets:"
   ]
  },
  {
   "cell_type": "code",
   "execution_count": 1,
   "metadata": {
    "ExecuteTime": {
     "end_time": "2018-10-30T23:46:14.931653Z",
     "start_time": "2018-10-30T23:46:14.919868Z"
    }
   },
   "outputs": [],
   "source": [
    "import numpy as np\n",
    "import matplotlib.pyplot as plt\n",
    "import pandas as pd\n",
    "%matplotlib inline\n",
    "class DataA:\n",
    "    def __init__(self):\n",
    "        f = lambda x, y : np.random.randn(x, y)\n",
    "        self.train_x = f(1000, 20)\n",
    "        self.train_y = f(1000, 1)[:,0]\n",
    "        self.test_x = f(500, 20)\n",
    "        self.test_y = f(500, 1)[:,0]\n",
    "        \n",
    "class DataB:\n",
    "    def __init__(self):\n",
    "        # Data from: https://archive.ics.uci.edu/ml/datasets/Cloud\n",
    "        data = np.fromfile(\"data/cloud.data\", sep = \" \").reshape((1024, 10))\n",
    "        y = data[:, 6]\n",
    "        X = np.delete(data, 6, axis = 1)\n",
    "        \n",
    "        self.train_x = X[:800]\n",
    "        self.train_y = y[:800]\n",
    "        \n",
    "        self.test_x = X[800:]\n",
    "        self.test_y = y[800:]\n",
    "        \n",
    "class DataC:\n",
    "    def __init__(self):\n",
    "        # Data from: http://archive.ics.uci.edu/ml/datasets/Forest+Fires\n",
    "        data = pd.read_csv(\"data/forestfires.csv\")\n",
    "        data = data.sample(frac = 1).reset_index(drop = True).drop(columns = [\"month\", \"day\"])\n",
    "        data[\"area\"] = np.log(data[\"area\"] + 1)\n",
    "        X = data.drop(columns = \"area\").values\n",
    "        y = data[\"area\"].values\n",
    "        \n",
    "        self.train_x = X[:400]\n",
    "        self.train_y = y[:400]\n",
    "        \n",
    "        self.test_x = X[400:]\n",
    "        self.test_y = y[400:]"
   ]
  },
  {
   "cell_type": "code",
   "execution_count": 2,
   "metadata": {},
   "outputs": [],
   "source": [
    "data_a = DataA()\n",
    "data_b = DataB()\n",
    "data_c = DataC()"
   ]
  },
  {
   "cell_type": "markdown",
   "metadata": {},
   "source": [
    "1. [15 Pts] Fit a regressor to the data set using sklearn's `Lasso` module (for more details, read [here](http://scikit-learn.org/stable/modules/generated/sklearn.linear_model.Lasso.html)):\n",
    "    1. Train a LASSO model for each of the 3 data sets(A, B and C) using 5 different values for the regularization parameter $\\lambda$. Use $\\lambda = 0.01, 0.05, 0.1, 0.2, 0.3$. Report and plot the number of non-zero coefficients.\n",
    "    2. Report the value of $\\lambda$ that yields the minimum number of non-zero coefficients in the resulting $\\mathbf w$ in case of each dataset, and report the number of non-zero coefficients in that case. Keep track of this $\\mathbf w$, we will refer to it as $\\mathbf w_b$. [This step is only needed if any $\\mathbf{w}$ has coefficients that are 0.]\n",
    "    3. For each of the classifiers learned in part (A), compute their test error as mean-squared-error. Plot the test error as function of $\\lambda$ for all three datasets in the same graph.\n",
    "    4. Report the value of $\\lambda$ that yields the $\\mathbf w$ with the minimum test error in case of each dataset. Save this $\\mathbf w$ as $\\mathbf w_d$. How many non-zero coordinates does $\\mathbf w_d$ have? Keep track of this, as well as the answers for $\\mathbf w_b$ for the comparison to Ridge Regression below. It might be helpful to make a table, i.e. the number of non-zero coordinates and the test error for $\\mathbf w_b$ and $\\mathbf w_d$ for each data set.\n",
    "    5. For data set A, by increasing the value of $\\lambda$, can you get most of the entries to be 0? Can you get every entry to be 0?\n",
    "    \n",
    "Note: $\\lambda$ is same as $\\alpha$ in the sklearn module."
   ]
  },
  {
   "cell_type": "code",
   "execution_count": 3,
   "metadata": {},
   "outputs": [
    {
     "name": "stdout",
     "output_type": "stream",
     "text": [
      "------------------- PART (A)---------------------------\n",
      "Lambda Value:\n",
      "[0.01, 0.05, 0.1, 0.2, 0.3]\n",
      "Number of non-zero coefficients for data set A\n",
      "[15, 1, 0, 0, 0]\n",
      "Lambda Value:\n",
      "[0.01, 0.05, 0.1, 0.2, 0.3]\n",
      "Number of non-zero coefficients for data set B\n",
      "[9, 7, 7, 7, 6]\n",
      "Lambda Value:\n",
      "[0.01, 0.05, 0.1, 0.2, 0.3]\n",
      "Number of non-zero coefficients for data set C\n",
      "[9, 7, 6, 6, 4]\n"
     ]
    },
    {
     "data": {
      "image/png": "[encoded data removed]",
      "text/plain": [
       "<Figure size 432x288 with 1 Axes>"
      ]
     },
     "metadata": {
      "needs_background": "light"
     },
     "output_type": "display_data"
    },
    {
     "name": "stdout",
     "output_type": "stream",
     "text": [
      "------------------- PART (B)---------------------------\n",
      "The value of alpha that minimizes the number of non-zero coefficients in data set A is:\n",
      "0.1\n",
      "The value of alpha that minimizes the number of non-zero coefficients in data set B is:\n",
      "0.3\n",
      "The value of alpha that minimizes the number of non-zero coefficients in data set C is:\n",
      "0.3\n",
      "------------------- PART (C)---------------------------\n"
     ]
    },
    {
     "data": {
      "image/png": "[encoded data removed]",
      "text/plain": [
       "<Figure size 432x288 with 1 Axes>"
      ]
     },
     "metadata": {
      "needs_background": "light"
     },
     "output_type": "display_data"
    },
    {
     "name": "stdout",
     "output_type": "stream",
     "text": [
      "------------------- PART (D)---------------------------\n",
      "The lambda that minimizes the mean squared error of data set A is:\n",
      "0.1\n",
      "The lambda that minimizes the mean squared error of data set B is:\n",
      "0.01\n",
      "The lambda that minimizes the mean squared error of data set C is:\n",
      "0.3\n",
      "------------------- PART (E)---------------------------\n",
      "We can see that, for data set A, there is a value of lambda that will give zero non-zero coefficients in the end model. From the graph in part a we can see that one such lambda is .15\n"
     ]
    }
   ],
   "source": [
    "from sklearn import linear_model\n",
    "from sklearn.metrics import mean_squared_error\n",
    "from sklearn.metrics import accuracy_score\n",
    "from matplotlib.pylab import plt\n",
    "import math\n",
    "\n",
    "class Lasso:\n",
    "    def __init__(self, gamma, data):\n",
    "        self.gamma = gamma\n",
    "        self.data = data\n",
    "        \n",
    "        \n",
    "    def fit(self):\n",
    "        '''\n",
    "        Here you must fit a Lasso model, train it using the data you have in self.data, \n",
    "        specifically the training part, for the specified value of gamma in self.gamma. \n",
    "        Calculate the number of non-zero coefficients in the model weights. Then,\n",
    "        test the trained model on the testing part of the data in self.data and calculate the\n",
    "        Root mean square error between the predicted values and the actual values of target variable.\n",
    "        \n",
    "        RETURN : \n",
    "            num_nonzero_coeff : number of non-zero coefficients in the model weights\n",
    "            mean_squared_err : Root mean square error between the predicted values and the \n",
    "            actual values of target variable\n",
    "        '''\n",
    "        #make the model with alpha = gamma\n",
    "        model = linear_model.Lasso(alpha = self.gamma)\n",
    "        #fit the linear regression\n",
    "        model.fit(self.data.train_x, self.data.train_y)\n",
    "        #count number of non-zero coefficients\n",
    "        num_nonzero_coeff = 0\n",
    "        for i in model.coef_:\n",
    "            if(i != 0):\n",
    "                num_nonzero_coeff += 1\n",
    "        #get the root mean square error\n",
    "        predictedY = model.predict(self.data.test_x)\n",
    "        mean_squared_err = np.sqrt(mean_squared_error(self.data.test_y, predictedY))\n",
    "        self.model = model\n",
    "        return(num_nonzero_coeff, mean_squared_err)\n",
    "            \n",
    "\n",
    "\n",
    "\n",
    "data_sets = {'A': data_a, 'B': data_b, 'C': data_c}\n",
    "alphas = [0.01, 0.05, 0.1, 0.2, 0.3]\n",
    "\n",
    "print('------------------- PART (A)---------------------------')\n",
    "for i in data_sets.keys():\n",
    "    numberNonZer = []\n",
    "    for j in alphas:\n",
    "        LassoModel = Lasso(j, data_sets[i])\n",
    "        numberNonZer.append(LassoModel.fit()[0])\n",
    "    print(\"Lambda Value:\")\n",
    "    print(alphas)\n",
    "    print(\"Number of non-zero coefficients for data set \" + i)\n",
    "    print(numberNonZer)\n",
    "    plt.plot(alphas,numberNonZer, label = \"data set \" + i)\n",
    "plt.xlabel(\"alpha\")\n",
    "plt.ylabel(\"number of non-zero coefficients\")\n",
    "plt.legend()\n",
    "plt.show()\n",
    "print('------------------- PART (B)---------------------------')\n",
    "wbLasso = []\n",
    "for i in data_sets.keys():\n",
    "    numberNonZer = []\n",
    "    for j in alphas:\n",
    "        LassoModel = Lasso(j, data_sets[i])\n",
    "        numberNonZer.append(LassoModel.fit()[0])\n",
    "    print(\"The value of alpha that minimizes the number of non-zero coefficients in data set \" + i + \" is:\")\n",
    "    print(alphas[numberNonZer.index(min(numberNonZer))])\n",
    "    LassoModel = Lasso(alphas[numberNonZer.index(min(numberNonZer))], data_sets[i])\n",
    "    temp = LassoModel.fit()[0]\n",
    "    wbLasso.append(LassoModel.model.coef_)\n",
    "print('------------------- PART (C)---------------------------')\n",
    "for i in data_sets.keys():\n",
    "    error = []\n",
    "    for j in alphas:\n",
    "        LassoModel = Lasso(j, data_sets[i])\n",
    "        error.append(LassoModel.fit()[1])\n",
    "    plt.plot(alphas, error, label = \"data set \" + i)\n",
    "plt.xlabel(\"alpha\")\n",
    "plt.ylabel(\"Error\")\n",
    "plt.legend()\n",
    "plt.show()\n",
    "print('------------------- PART (D)---------------------------')\n",
    "wdLasso = []\n",
    "for i in data_sets.keys():\n",
    "    error = []\n",
    "    for j in alphas:\n",
    "        LassoModel = Lasso(j, data_sets[i])\n",
    "        error.append(LassoModel.fit()[1])\n",
    "    print(\"The lambda that minimizes the mean squared error of data set \" + i + \" is:\")\n",
    "    print(alphas[error.index(min(error))])\n",
    "    LassoModel = Lasso(alphas[error.index(min(error))], data_sets[i])\n",
    "    temp = LassoModel.fit()[0]\n",
    "    wdLasso.append(LassoModel.model.coef_)\n",
    "print('------------------- PART (E)---------------------------')\n",
    "print(\"We can see that, for data set A, there is a value of lambda that will give zero non-zero coefficients in\" +\n",
    "     \" the end model. From the graph in part a we can see that one such lambda is .15\")"
   ]
  },
  {
   "cell_type": "markdown",
   "metadata": {},
   "source": [
    "2. [15 pts] Now, we turn to Ridge regression. We'll use sklearn module `Ridge` (read more [here](http://scikit-learn.org/stable/modules/generated/sklearn.linear_model.Ridge.html#sklearn.linear_model.Ridge)). Repeat each of the experiments A-E above using Ridge regression. Use $\\lambda = 1, 50, 100, 200, 1000$."
   ]
  },
  {
   "cell_type": "code",
   "execution_count": 4,
   "metadata": {
    "scrolled": false
   },
   "outputs": [
    {
     "name": "stdout",
     "output_type": "stream",
     "text": [
      "------------------- PART (A)---------------------------\n",
      "Lambda Value:\n",
      "[1, 50, 100, 200, 1000]\n",
      "Number of non-zero coefficients for data set A\n",
      "[20, 20, 20, 20, 20]\n",
      "Lambda Value:\n",
      "[1, 50, 100, 200, 1000]\n",
      "Number of non-zero coefficients for data set B\n",
      "[9, 9, 9, 9, 9]\n",
      "Lambda Value:\n",
      "[1, 50, 100, 200, 1000]\n",
      "Number of non-zero coefficients for data set C\n",
      "[10, 10, 10, 10, 10]\n"
     ]
    },
    {
     "data": {
      "image/png": "[encoded data removed]",
      "text/plain": [
       "<Figure size 432x288 with 1 Axes>"
      ]
     },
     "metadata": {
      "needs_background": "light"
     },
     "output_type": "display_data"
    },
    {
     "name": "stdout",
     "output_type": "stream",
     "text": [
      "------------------- PART (B)---------------------------\n",
      "The value of alpha that minimizes the number of non-zero coefficients in data set A is:\n",
      "1\n",
      "The value of alpha that minimizes the number of non-zero coefficients in data set B is:\n",
      "1\n",
      "The value of alpha that minimizes the number of non-zero coefficients in data set C is:\n",
      "1\n",
      "------------------- PART (C)---------------------------\n"
     ]
    },
    {
     "data": {
      "image/png": "[encoded data removed]",
      "text/plain": [
       "<Figure size 432x288 with 1 Axes>"
      ]
     },
     "metadata": {
      "needs_background": "light"
     },
     "output_type": "display_data"
    },
    {
     "name": "stdout",
     "output_type": "stream",
     "text": [
      "------------------- PART (D)---------------------------\n",
      "The lambda that minimizes the mean squared error of data set A is:\n",
      "1000\n",
      "The lambda that minimizes the mean squared error of data set B is:\n",
      "1\n",
      "The lambda that minimizes the mean squared error of data set C is:\n",
      "1000\n",
      "------------------- PART (E)---------------------------\n",
      "try lambda = 100000: \n",
      "number of non-zero coefficients for lambda = 100000: \n",
      "20\n",
      "try lambda = 1000000: \n",
      "number of non-zero coefficients for lambda = 1000000: \n",
      "20\n",
      "try lambda = 10000000: \n",
      "number of non-zero coefficients for lambda = 10000000: \n",
      "20\n",
      "It does not appear that there is any lambda that will allow all of the coefficients in the model for Dataset A to go to zero\n",
      "---------------------------------------------------------\n",
      "I'm using this section to have some convient print outs for question 3:\n",
      "wb for dataset A:\n",
      "for Lasso:\n",
      "[-0.  0.  0. -0.  0.  0.  0.  0.  0. -0. -0. -0.  0.  0.  0. -0.  0. -0.\n",
      " -0. -0.]\n",
      "for Ridge:\n",
      "[-5.88753218e-03  2.59671637e-02  2.03837540e-02 -1.49889543e-02\n",
      "  1.97739719e-02  2.46629482e-03  2.34493414e-04  2.14097625e-02\n",
      "  1.57431048e-02 -1.98490933e-02  3.58820018e-04 -1.86304880e-02\n",
      "  9.44176961e-03  2.32476325e-03  5.40771196e-03  7.89735217e-05\n",
      "  4.10351816e-02 -4.68380124e-03 -1.64591315e-02 -8.28231589e-03]\n",
      "wd for dataset A:\n",
      "for Lasso:\n",
      "[-0.  0.  0. -0.  0.  0.  0.  0.  0. -0. -0. -0.  0.  0.  0. -0.  0. -0.\n",
      " -0. -0.]\n",
      "for Ridge:\n",
      "[-5.88753218e-03  2.59671637e-02  2.03837540e-02 -1.49889543e-02\n",
      "  1.97739719e-02  2.46629482e-03  2.34493414e-04  2.14097625e-02\n",
      "  1.57431048e-02 -1.98490933e-02  3.58820018e-04 -1.86304880e-02\n",
      "  9.44176961e-03  2.32476325e-03  5.40771196e-03  7.89735217e-05\n",
      "  4.10351816e-02 -4.68380124e-03 -1.64591315e-02 -8.28231589e-03]\n",
      "-----\n",
      "wb for dataset B:\n",
      "for Lasso:\n",
      "[-0.00288079  0.00455033  0.01299448  0.          0.00362342 -0.\n",
      " -0.00422895  0.01425814 -0.        ]\n",
      "for Ridge:\n",
      "[ 1.06105350e-03  1.93168909e-03 -2.12816350e-03  2.11889754e-01\n",
      " -4.12651989e-03 -1.75936583e+00  1.92482500e-04  1.88042545e-03\n",
      " -3.00387232e-04]\n",
      "wd for dataset B:\n",
      "for Lasso:\n",
      "[-1.25340675e-04  3.19897058e-03 -1.85049938e-03  2.96308873e-01\n",
      " -6.89900789e-03 -8.50044352e-01 -1.29507807e-03  1.56594391e-03\n",
      "  7.40399333e-04]\n",
      "for Ridge:\n",
      "[ 1.06105350e-03  1.93168909e-03 -2.12816350e-03  2.11889754e-01\n",
      " -4.12651989e-03 -1.75936583e+00  1.92482500e-04  1.88042545e-03\n",
      " -3.00387232e-04]\n",
      "----------\n",
      "wb for dataset C:\n",
      "for Lasso:\n",
      "[ 0.          0.         -0.          0.00142632  0.00020859 -0.00378166\n",
      " -0.         -0.00236817  0.          0.        ]\n",
      "for Ridge:\n",
      "[ 0.03827021 -0.00995652  0.00593063  0.00207722  0.00030163 -0.02337951\n",
      " -0.00331086 -0.00515424  0.05167511  0.00612064]\n",
      "wd for dataset C:\n",
      "for Lasso:\n",
      "[ 0.          0.         -0.          0.00142632  0.00020859 -0.00378166\n",
      " -0.         -0.00236817  0.          0.        ]\n",
      "for Ridge:\n",
      "[ 0.03827021 -0.00995652  0.00593063  0.00207722  0.00030163 -0.02337951\n",
      " -0.00331086 -0.00515424  0.05167511  0.00612064]\n"
     ]
    }
   ],
   "source": [
    "from sklearn.linear_model import Ridge\n",
    "from sklearn.metrics import mean_squared_error\n",
    "from sklearn.metrics import accuracy_score\n",
    "\n",
    "class Ridge:\n",
    "    def __init__(self, gamma, data):\n",
    "        self.gamma = gamma\n",
    "        self.data = data\n",
    "        \n",
    "        \n",
    "    def fit(self):\n",
    "        '''\n",
    "        Here you must fit a Lasso model, train it using the data you have in self.data, \n",
    "        specifically the training part, for the specified value of gamma in self.gamma. \n",
    "        Calculate the number of non-zero coefficients in the model weights. Then,\n",
    "        test the trained model on the testing part of the data in self.data and calculate the\n",
    "        Root mean square error between the predicted values and the actual values of target variable.\n",
    "        \n",
    "        RETURN : \n",
    "            num_nonzero_coeff : number of non-zero coefficients in the model weights\n",
    "            mean_squared_err : Root mean square error between the predicted values and the \n",
    "            actual values of target variable\n",
    "        '''\n",
    "        model = linear_model.Ridge(alpha = self.gamma)\n",
    "        model.fit(self.data.train_x, self.data.train_y)\n",
    "        num_nonzero_coeff = 0\n",
    "        for i in model.coef_:\n",
    "            if(i != 0):\n",
    "                num_nonzero_coeff += 1\n",
    "        predictedY = model.predict(self.data.test_x)\n",
    "        mean_squared_err = np.sqrt(mean_squared_error(self.data.test_y, predictedY))\n",
    "        self.model = model\n",
    "        return(num_nonzero_coeff, mean_squared_err)\n",
    "\n",
    "\n",
    "alphas = [1, 50, 100, 200, 1000]\n",
    "print('------------------- PART (A)---------------------------')\n",
    "\n",
    "for i in data_sets.keys():\n",
    "    numberNonZer = []\n",
    "    for j in alphas:\n",
    "        RidgeModel = Ridge(j, data_sets[i])\n",
    "        numberNonZer.append(RidgeModel.fit()[0])\n",
    "    print(\"Lambda Value:\")\n",
    "    print(alphas)\n",
    "    print(\"Number of non-zero coefficients for data set \" + i)\n",
    "    print(numberNonZer)\n",
    "    plt.plot(alphas,numberNonZer, label = \"data set \" + i)\n",
    "plt.xlabel(\"alpha\")\n",
    "plt.ylabel(\"number of non-zero coefficients\")\n",
    "plt.legend()\n",
    "plt.show()\n",
    "print('------------------- PART (B)---------------------------')\n",
    "wbRidge = []\n",
    "for i in data_sets.keys():\n",
    "    numberNonZer = []\n",
    "    for j in alphas:\n",
    "        RidgeModel = Ridge(j, data_sets[i])\n",
    "        numberNonZer.append(RidgeModel.fit()[0])\n",
    "    print(\"The value of alpha that minimizes the number of non-zero coefficients in data set \" + i + \" is:\")\n",
    "    print(alphas[numberNonZer.index(min(numberNonZer))])\n",
    "    RidgeModel = Ridge(j, data_sets[i])\n",
    "    temp = RidgeModel.fit()\n",
    "    wbRidge.append(RidgeModel.model.coef_)\n",
    "        \n",
    "print('------------------- PART (C)---------------------------')\n",
    "for i in data_sets.keys():\n",
    "    error = []\n",
    "    for j in alphas:\n",
    "        RidgeModel = Ridge(j, data_sets[i])\n",
    "        error.append(RidgeModel.fit()[1])\n",
    "    plt.plot(alphas, error, label = \"data set \" + i)\n",
    "plt.xlabel(\"alpha\")\n",
    "plt.ylabel(\"Error\")\n",
    "plt.legend()\n",
    "plt.show()\n",
    "print('------------------- PART (D)---------------------------')\n",
    "wdRidge = []\n",
    "for i in data_sets.keys():\n",
    "    error = []\n",
    "    for j in alphas:\n",
    "        RidgeModel = Ridge(j, data_sets[i])\n",
    "        error.append(RidgeModel.fit()[1])\n",
    "    print(\"The lambda that minimizes the mean squared error of data set \" + i + \" is:\")\n",
    "    print(alphas[error.index(min(error))])\n",
    "    RidgeModel = Ridge(alphas[error.index(min(error))], data_sets[i])\n",
    "    temp = RidgeModel.fit()\n",
    "    wdRidge.append(RidgeModel.model.coef_)\n",
    "print('------------------- PART (E)---------------------------')\n",
    "print(\"try lambda = 100000: \")\n",
    "RidgeModel = Ridge(100000, data_sets[\"A\"])\n",
    "print(\"number of non-zero coefficients for lambda = 100000: \")\n",
    "print(RidgeModel.fit()[0])\n",
    "print(\"try lambda = 1000000: \")\n",
    "RidgeModel = Ridge(1000000, data_sets[\"A\"])\n",
    "print(\"number of non-zero coefficients for lambda = 1000000: \")\n",
    "print(RidgeModel.fit()[0])\n",
    "print(\"try lambda = 10000000: \")\n",
    "RidgeModel = Ridge(10000000, data_sets[\"A\"])\n",
    "print(\"number of non-zero coefficients for lambda = 10000000: \")\n",
    "print(RidgeModel.fit()[0])\n",
    "print(\"It does not appear that there is any lambda that will allow all of the coefficients in the model for\" +\n",
    "     \" Dataset A to go to zero\")\n",
    "print('---------------------------------------------------------')\n",
    "print(\"I'm using this section to have some convient print outs for question 3:\")\n",
    "print(\"wb for dataset A:\")\n",
    "print(\"for Lasso:\")\n",
    "print(wbLasso[0])\n",
    "print(\"for Ridge:\")\n",
    "print(wdRidge[0])\n",
    "print(\"wd for dataset A:\")\n",
    "print(\"for Lasso:\")\n",
    "print(wdLasso[0])\n",
    "print(\"for Ridge:\")\n",
    "print(wdRidge[0])\n",
    "print(\"-----\")\n",
    "print(\"wb for dataset B:\")\n",
    "print(\"for Lasso:\")\n",
    "print(wbLasso[1])\n",
    "print(\"for Ridge:\")\n",
    "print(wdRidge[1])\n",
    "print(\"wd for dataset B:\")\n",
    "print(\"for Lasso:\")\n",
    "print(wdLasso[1])\n",
    "print(\"for Ridge:\")\n",
    "print(wdRidge[1])\n",
    "print(\"----------\")\n",
    "print(\"wb for dataset C:\")\n",
    "print(\"for Lasso:\")\n",
    "print(wbLasso[2])\n",
    "print(\"for Ridge:\")\n",
    "print(wdRidge[2])\n",
    "print(\"wd for dataset C:\")\n",
    "print(\"for Lasso:\")\n",
    "print(wdLasso[2])\n",
    "print(\"for Ridge:\")\n",
    "print(wdRidge[2])"
   ]
  },
  {
   "cell_type": "markdown",
   "metadata": {},
   "source": [
    "3. [10 pts] Compare the two algorithms on each data set: compare the number of non-zero coordinates of the $\\mathbf w_d$'s, and compare the test error rates of the $\\mathbf w_b$'s. Report your results and comment on them."
   ]
  },
  {
   "cell_type": "markdown",
   "metadata": {},
   "source": [
    "It appears that $w_b$ for lasso always has more zeros than $w_b$ for ridge, though Ridge regression does get close to zero for many of its weights. It also appears that $w_b$ is not the same as $w_d$ in some cases. For instance: the $w_b$ in the Lasso of dataset A is a vector of all zeros, where as the $w_d$ has non-zero terms. The difference in error between the two methods doesn't appear to be that great, though we can again observe that ridge regression gives no non-zero terms in its $w_d$ and Lasso does give non-zero terms in $w_d$.  \n",
    "<br/>\n",
    "Specifically, for data set A we see that Lasso will eventually get only 0s for its coefficents, and Ridge will get close to zero for most of its coefficients (but never reach 0), and these are also the same coefficients that minimize the errors ($w_b = w_d$). For this data set we get similar accuracyies for both methods.  \n",
    "For data set B we never get only zero coefficients for any of the alphas we used in lasso, and Ridge gives no zero coefficients (as we would expect). $w_b$ does not equal $w_d$ for this data set, and ridge and lasso both gave similar accuracies.  \n",
    "For data set C we also never reach the point of only having 0s for coefficients with lasso, but we do get more 0s than with B. Ridge still gives no non-zero coefficients, and our accuracies were still similar across the two methods."
   ]
  },
  {
   "cell_type": "markdown",
   "metadata": {},
   "source": [
    "## Part 2: Visualizing Data and Decision Boundaries for different kernels - 20 points"
   ]
  },
  {
   "cell_type": "markdown",
   "metadata": {},
   "source": [
    "We've also been exploring the world of support vector machines and Kernels, so to understand these systems a little better, let's start by building a few ourselves."
   ]
  },
  {
   "cell_type": "markdown",
   "metadata": {},
   "source": [
    "### A. Training SVM with Linear Kernel (Dataset 1)"
   ]
  },
  {
   "cell_type": "code",
   "execution_count": 5,
   "metadata": {},
   "outputs": [
    {
     "data": {
      "image/png": "[encoded data removed]",
      "text/plain": [
       "<Figure size 432x288 with 1 Axes>"
      ]
     },
     "metadata": {
      "needs_background": "light"
     },
     "output_type": "display_data"
    }
   ],
   "source": [
    "import numpy as np\n",
    "import scipy.io as sio\n",
    "import matplotlib.pyplot as plt\n",
    "\n",
    "from plot_data import plot_data\n",
    "\n",
    "\n",
    "# Load from data1\n",
    "mat_data = sio.loadmat('./data/data1.mat')\n",
    "X = mat_data['X']\n",
    "y = mat_data['y'].ravel()\n",
    "\n",
    "# Plot training data\n",
    "plt.figure()\n",
    "plot_data(X, y)\n",
    "plt.xlim([0, 4.5])\n",
    "plt.ylim([1.5, 5])\n",
    "plt.title(\"Dataset 1\")\n",
    "plt.show()"
   ]
  },
  {
   "cell_type": "markdown",
   "metadata": {},
   "source": [
    "**A:** [10 pts] In `data1.mat`, most of the positive and negative examples can be separated by a single line. We'll train an SVM with a linear kernel (look at `sklearn.svm.LinearSVC`) with C = 1 and plot the decision boundary using `visualize_boundary_linear(X, y, clf)`. `clf` is the SVM classifier. For the classifier, you should use the scikit-learn implementation. Add the decision boundary, uncomment the visualization, and verify it in the graph below."
   ]
  },
  {
   "cell_type": "code",
   "execution_count": 6,
   "metadata": {},
   "outputs": [
    {
     "data": {
      "image/png": "[encoded data removed]",
      "text/plain": [
       "<Figure size 432x288 with 1 Axes>"
      ]
     },
     "metadata": {
      "needs_background": "light"
     },
     "output_type": "display_data"
    }
   ],
   "source": [
    "# SOLUTION \n",
    "from sklearn import svm\n",
    "from visualize_boundary_linear import visualize_boundary_linear\n",
    "\n",
    "### START CODE HERE ### (approx. 3 lines)\n",
    "C = 1\n",
    "clf = svm.LinearSVC(C = C)\n",
    "clf.fit(X,y)\n",
    "### END CODE HERE ### \n",
    "\n",
    "\n",
    "plt.figure()\n",
    "visualize_boundary_linear(X, y, clf)\n",
    "plt.xlim([0, 4.5])\n",
    "plt.ylim([1.5, 5])\n",
    "plt.title(\"Dataset 1\")\n",
    "plt.show()"
   ]
  },
  {
   "cell_type": "markdown",
   "metadata": {},
   "source": [
    "### B. Training SVM with RBF Kernel (Dataset 2)"
   ]
  },
  {
   "cell_type": "code",
   "execution_count": 7,
   "metadata": {},
   "outputs": [
    {
     "data": {
      "image/png": "[encoded data removed]",
      "text/plain": [
       "<Figure size 432x288 with 1 Axes>"
      ]
     },
     "metadata": {
      "needs_background": "light"
     },
     "output_type": "display_data"
    }
   ],
   "source": [
    "# Load from data2\n",
    "mat_data = sio.loadmat('./data/data2.mat')\n",
    "X = mat_data['X']\n",
    "y = mat_data['y'].ravel()\n",
    "\n",
    "# Plot training data\n",
    "plt.figure()\n",
    "plot_data(X, y)\n",
    "plt.xlim([0, 1])\n",
    "plt.ylim([0.4, 1])\n",
    "plt.title(\"Dataset 2\")\n",
    "plt.show()"
   ]
  },
  {
   "cell_type": "markdown",
   "metadata": {},
   "source": [
    "**B** [10 pts] In `data2.mat`, the positive and negative data points are not linearly separable. For this dataset, construct an SVM classifier with a Gaussian kernel (look at `sklearn.svm.SVC`) to learn a non-linear decision boundary. You should use the scikit-learn implementation for the same. To plot the decision boundary use `visualize_boundary(X, y, clf)`. As before, implement the decision boundary, uncomment the visualization, and verify it in the graph below."
   ]
  },
  {
   "cell_type": "code",
   "execution_count": 8,
   "metadata": {},
   "outputs": [
    {
     "name": "stderr",
     "output_type": "stream",
     "text": [
      "/home/jat/Documents/GradSchool/machineLearning/visualize_boundary.py:29: UserWarning: No contour levels were found within the data range.\n",
      "  plt.contour(X1, X2, vals, levels=[0])\n"
     ]
    },
    {
     "data": {
      "image/png": "[encoded data removed]",
      "text/plain": [
       "<Figure size 432x288 with 1 Axes>"
      ]
     },
     "metadata": {
      "needs_background": "light"
     },
     "output_type": "display_data"
    }
   ],
   "source": [
    "from visualize_boundary import visualize_boundary\n",
    "\n",
    "# SVM Parameters to be used\n",
    "C = 100\n",
    "gamma = 10\n",
    "kernel = 'rbf'\n",
    "\n",
    "### START CODE HERE ### (approx. 3 lines)\n",
    "clf = svm.SVC(C = C, kernel= kernel, gamma = gamma)\n",
    "clf.fit(X,y)\n",
    "### END CODE HERE ### \n",
    "\n",
    "plt.figure()\n",
    "visualize_boundary(X, y, clf)\n",
    "plt.xlim([0, 1])\n",
    "plt.ylim([0.4, 1])\n",
    "plt.title(\"Dataset 2\")\n",
    "plt.show()"
   ]
  },
  {
   "cell_type": "markdown",
   "metadata": {},
   "source": [
    "## Part 3: Kernel Perceptron - 40 points"
   ]
  },
  {
   "cell_type": "markdown",
   "metadata": {},
   "source": [
    "Now that we've seen the SKLearn implementation of some different kernels, we'll be working to implement some of our own kernel transformations, but we'll work within the perceptron space. Implement the Kernel Perceptron as described in the lecture using different kernel functions (Linear, Polynomial, and Gaussian RBF). Use the training and test data provided below to train and test your implementation. Report the error rate for each kernel function."
   ]
  },
  {
   "cell_type": "markdown",
   "metadata": {},
   "source": [
    "**A:** [20 pts] Implement the kernel functions below:"
   ]
  },
  {
   "cell_type": "code",
   "execution_count": 9,
   "metadata": {},
   "outputs": [],
   "source": [
    "import numpy as np\n",
    "from numpy import linalg\n",
    "\n",
    "def linear_kernel(x1, x2):\n",
    "    return(np.dot(x1, x2))\n",
    "\n",
    "def polynomial_kernel(x, y, p = 3):\n",
    "    return((np.dot(x,y)+1)**p)\n",
    "    \n",
    "def gaussian_kernel(x, y, sigma = 0.5):\n",
    "    return(np.exp(-1*(np.linalg.norm(x-y)**2)/(2*sigma**2)))"
   ]
  },
  {
   "cell_type": "code",
   "execution_count": 10,
   "metadata": {},
   "outputs": [
    {
     "name": "stderr",
     "output_type": "stream",
     "text": [
      "...\n",
      "----------------------------------------------------------------------\n",
      "Ran 3 tests in 0.109s\n",
      "\n",
      "OK\n"
     ]
    },
    {
     "data": {
      "text/plain": [
       "<unittest.runner.TextTestResult run=3 errors=0 failures=0>"
      ]
     },
     "execution_count": 10,
     "metadata": {},
     "output_type": "execute_result"
    }
   ],
   "source": [
    "import unittest\n",
    "\n",
    "class TestKernels(unittest.TestCase):\n",
    "    \n",
    "    def setUp(self):\n",
    "        self.x1 = np.array([1, 2, 1])\n",
    "        self.x2 = np.array([0, 4, -1])\n",
    "        \n",
    "    def test0(self):\n",
    "        \"\"\"\n",
    "        WARNING : DO NOT CHANGE THE UNIT TESTS\n",
    "        Test the linear kernel\n",
    "        \"\"\"\n",
    "        self.assertEqual(linear_kernel(self.x1, self.x2), 7)\n",
    "    \n",
    "    def test_polynomial_kernel(self):\n",
    "        \"\"\"\n",
    "        WARNING : DO NOT CHANGE THE UNIT TESTS\n",
    "        Test the polynomial kernel\n",
    "        \"\"\"\n",
    "        self.assertEqual(polynomial_kernel(self.x1, self.x2), 512)\n",
    "        \n",
    "    def test_gaussian_kernel(self):\n",
    "        \"\"\"\n",
    "        WARNING : DO NOT CHANGE THE UNIT TESTS\n",
    "        Test the gaussian kernel\n",
    "        \"\"\"\n",
    "        self.assertAlmostEqual(gaussian_kernel(self.x1, self.x2) * 10 ** 8, 1.52299, 4)\n",
    "    \n",
    "\n",
    "tests = TestKernels()\n",
    "tests_to_run = unittest.TestLoader().loadTestsFromModule(tests)\n",
    "unittest.TextTestRunner().run(tests_to_run)\n",
    "            "
   ]
  },
  {
   "cell_type": "markdown",
   "metadata": {},
   "source": [
    "**B:** [20 pts] Implement the following methods of the `KernelPerceptron` class. The `__init__` takes also as input the kernel to use. You are allowed to introduce new class variables/methods.\n",
    "\n",
    "* Implement the `fit` method. Taking as input the training data, it learns the model parameters\n",
    "* Implement the `predict` method which takes as input new examples and returns the estimated label "
   ]
  },
  {
   "cell_type": "code",
   "execution_count": 11,
   "metadata": {},
   "outputs": [],
   "source": [
    "class KernelPerceptron:\n",
    "    def __init__(self, kernel = linear_kernel, Niter = 1):\n",
    "        self.kernel = kernel\n",
    "        self.Niter = Niter\n",
    "        self.support_vector_x = None\n",
    "        self.support_vector_y = None\n",
    "    def fit(self, X, y):\n",
    "        '''\n",
    "        Estimate model parameters i.e the support vectors here and store them in the\n",
    "        class variable self.support_vector_x and self.support_vector_y\n",
    "        '''\n",
    "        #initialize n for convienence:\n",
    "        n = X.shape[0]\n",
    "        #Make our alpha, which will record mistakes (increment alpha[i] by 1 if there is a mistake in classifying\n",
    "        #the ith example):\n",
    "        alpha = np.zeros(n)\n",
    "        #train our model, do this Niter times:\n",
    "        for i in range(0, self.Niter):\n",
    "            #for each training example\n",
    "            for j in range(0, n):\n",
    "                #find our predicted y for the jth training example\n",
    "                yhat = 0\n",
    "                #Calculates the sum from the lecture notes\n",
    "                #NOTE: I tried to get a vectorized implementation to work, but I couldn't quite figue it out, will\n",
    "                #try again if I have time\n",
    "                for k in range(0, n):\n",
    "                    yhat += alpha[k]*y[k]*self.kernel(X[k], X[j])\n",
    "                #if we predicted wrong increment alpha\n",
    "                if np.sign(yhat) != y[j]:\n",
    "                    alpha[j] += 1\n",
    "        #support vectors are then the vectors where we incremented alpha (so alpha > 0)\n",
    "        nonZeroInd = alpha > 0\n",
    "        self.support_vector_x = X[nonZeroInd, :]\n",
    "        self.support_vector_y = y[nonZeroInd]\n",
    "        #Need to have access to alpha in order to predict\n",
    "        self.alpha = alpha[nonZeroInd]\n",
    "        \n",
    "    def predict(self, X):\n",
    "        '''\n",
    "        Here X is a set of points. \n",
    "        RETURN : \n",
    "            y_predict : predicted labels for a set of points X\n",
    "        '''\n",
    "        #Initialize n for convience\n",
    "        n = X.shape[0]\n",
    "        #initialize a vector of prediciton (1 for each testing example)\n",
    "        y_predict = np.zeros(n)\n",
    "        #for each testing example\n",
    "        for i in range(0, n):\n",
    "            #predict y\n",
    "            yhat = 0\n",
    "            #see sum from lecture notes (again tried to get this to work as a vectorized operation, but I couldn't\n",
    "            #get the dimensions to work out)\n",
    "            for j in range(0, len(self.alpha)):\n",
    "                yhat += self.alpha[j]*self.support_vector_y[j]*self.kernel(self.support_vector_x[j,:], X[i,:])\n",
    "            #if the sign if > 0 predict the positive case\n",
    "            #if less than or equal to 0 predict negative case\n",
    "            if np.sign(yhat) > 0:\n",
    "                y_predict[i] = 1\n",
    "            elif np.sign(yhat) <= 0:\n",
    "                y_predict[i] = -1\n",
    "        return(y_predict)"
   ]
  },
  {
   "cell_type": "markdown",
   "metadata": {},
   "source": [
    "##  Solving a new classification problem using SVM"
   ]
  },
  {
   "cell_type": "markdown",
   "metadata": {},
   "source": [
    "We are using the IRIS Dataset for this classification task. We have created a binary classification problem to determine whether a given flower is a setosa or not. To create this, we pre-processed the labels to create a label vector where setosa’s label is unchanged (i.e. its label is 1), but both versicolor and virginica are now labeled as -1. The data contains two out of the four attributes, petal width and petal length.We are going to use this dataset to test our Kernel Perceptron\n",
    "<br>\n",
    "\n",
    "<img src=\"wide_iris.png\" alt=\"Drawing\" style=\"width: 600px;\"/>\n",
    "\n",
    "<br>"
   ]
  },
  {
   "cell_type": "code",
   "execution_count": 12,
   "metadata": {},
   "outputs": [
    {
     "data": {
      "text/plain": [
       "(135, 2)"
      ]
     },
     "execution_count": 12,
     "metadata": {},
     "output_type": "execute_result"
    }
   ],
   "source": [
    "from scipy.io import loadmat\n",
    "class Data:\n",
    "    def __init__(self):\n",
    "        ff = lambda x,y : loadmat(x)[y]\n",
    "        \n",
    "        self.X_train = ff(\"data/iris_3/train_data.mat\", \"train_data\")\n",
    "        self.y_train = ff(\"data/iris_3/train_labels.mat\", \"train_labels\").flatten()\n",
    "        \n",
    "        self.X_test = ff(\"data/iris_3/test_data.mat\", \"test_data\")\n",
    "        self.y_test = ff(\"data/iris_3/test_labels.mat\", \"test_labels\").flatten()\n",
    "        \n",
    "data = Data()\n",
    "data.X_train.shape"
   ]
  },
  {
   "cell_type": "markdown",
   "metadata": {},
   "source": [
    "**C:** Report the test error as a percentage for each kernel function for `Niter = 20`"
   ]
  },
  {
   "cell_type": "code",
   "execution_count": 13,
   "metadata": {},
   "outputs": [
    {
     "name": "stdout",
     "output_type": "stream",
     "text": [
      "Error percentage for a linear kernel\n",
      "40.0\n",
      "Error percentage for a polynomial kernel\n",
      "6.666666666666665\n",
      "Error percentage for a Gaussian kernel\n",
      "6.666666666666665\n"
     ]
    }
   ],
   "source": [
    "from sklearn.metrics import accuracy_score\n",
    "\n",
    "test = KernelPerceptron(linear_kernel, 20)\n",
    "test.fit(data.X_train, data.y_train)\n",
    "print(\"Error percentage for a linear kernel\")\n",
    "print((1 - accuracy_score(data.y_test, test.predict(data.X_test)))*100)\n",
    "print(\"Error percentage for a polynomial kernel\")\n",
    "test = KernelPerceptron(polynomial_kernel, 20)\n",
    "test.fit(data.X_train, data.y_train)\n",
    "print((1 - accuracy_score(data.y_test, test.predict(data.X_test)))*100)\n",
    "print(\"Error percentage for a Gaussian kernel\")\n",
    "test = KernelPerceptron(gaussian_kernel, 20)\n",
    "test.fit(data.X_train, data.y_train)\n",
    "print((1 - accuracy_score(data.y_test, test.predict(data.X_test)))*100)"
   ]
  },
  {
   "cell_type": "markdown",
   "metadata": {},
   "source": [
    "**Expected Output**: \n",
    "\n",
    "<table> \n",
    "    <tr>\n",
    "    <td>\n",
    "    **Linear Kernel**\n",
    "    </td>\n",
    "     <td>\n",
    "    40 %\n",
    "    </td>\n",
    "    </tr>\n",
    "      <tr>\n",
    "    <td>\n",
    "    **Polynomial Kernel**\n",
    "    </td>\n",
    "     <td>\n",
    "    6.67 %\n",
    "    </td>\n",
    "    </tr>\n",
    "      <tr>\n",
    "    <td>\n",
    "    **Gaussian Kernel**\n",
    "    </td>\n",
    "     <td>\n",
    "    6.67 %\n",
    "    </td>\n",
    "    </tr>\n",
    "\n",
    "</table> "
   ]
  },
  {
   "cell_type": "code",
   "execution_count": null,
   "metadata": {},
   "outputs": [],
   "source": []
  }
 ],
 "metadata": {
  "kernelspec": {
   "display_name": "Python 3",
   "language": "python",
   "name": "python3"
  },
  "language_info": {
   "codemirror_mode": {
    "name": "ipython",
    "version": 3
   },
   "file_extension": ".py",
   "mimetype": "text/x-python",
   "name": "python",
   "nbconvert_exporter": "python",
   "pygments_lexer": "ipython3",
   "version": "3.7.4"
  }
 },
 "nbformat": 4,
 "nbformat_minor": 2
}
