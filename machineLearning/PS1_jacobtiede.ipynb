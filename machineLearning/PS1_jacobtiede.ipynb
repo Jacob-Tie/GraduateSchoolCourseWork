{
 "cells": [
  {
   "cell_type": "markdown",
   "metadata": {},
   "source": [
    "# Problem Set 1 - KNN\n",
    "## CSCI 5622 - Spring 2020\n",
    "\n",
    "For today's assignment, we will be implementing our own K-Nearest Neighbors (KNN) algorithm.\n",
    "\n",
    "*But Professor Quigley, hasn't someone else already written KNN before?*\n",
    "\n",
    "Yes, you are not the first to implement KNN, or basically any algorithm we'll work with in this class. But 1) I'll know that you know what's really going on, and 2) you'll know you can do it, because 2a) someday you might have to implement some machine learning algorithm from scratch - maybe for a new platform (do you need to run python on your SmartToaster just to get it to learn how users like their toast?), maybe because you want to tweak the algorithm (there's always a better approach...), or maybe because you're working on something important and you need to control exactly what's on there (should you really be running anaconda on your secret spy plane?).\n",
    "\n",
    "That said - we're not going to implement *everything*. We'll start by importing a few helper functions"
   ]
  },
  {
   "cell_type": "code",
   "execution_count": 1,
   "metadata": {},
   "outputs": [],
   "source": [
    "import numpy as np\n",
    "import matplotlib.pyplot as plt\n",
    "import sklearn\n",
    "import sklearn.datasets"
   ]
  },
  {
   "cell_type": "markdown",
   "metadata": {},
   "source": [
    "*Wait a minute - didn't we just import Scikit-learn (sklearn)? The package with baked-in machine learning tools?*\n",
    "\n",
    "Yes - but it also has a ton of helper functions, including a dataset we'll be using later. But, for now, let's set up a KNNClassifier class."
   ]
  },
  {
   "cell_type": "code",
   "execution_count": 2,
   "metadata": {},
   "outputs": [],
   "source": [
    "import sklearn.neighbors\n",
    "\n",
    "class KNNClassifier:\n",
    "    \n",
    "    def __init__(self, X, y, k = 5):\n",
    "        \"\"\"\n",
    "        Initialize our custom KNN classifier\n",
    "        PARAMETERS\n",
    "        X - our training data features\n",
    "        y - our training data answers\n",
    "        k - the number of nearest neighbors to consider for classification\n",
    "        \"\"\"\n",
    "        self._model = sklearn.neighbors.BallTree(X)\n",
    "        self._y = y\n",
    "        self._k = k\n",
    "        self._counts = self.getCounts()\n",
    "    \n",
    "    def createClassMap(self):\n",
    "        \"\"\"\n",
    "        Creates a unqiue mapping for each class in self._y, and an integer\n",
    "        Returns a dictionary where the Keys are our unique integer mapping, and the values are the corresponding classes\n",
    "        \"\"\"\n",
    "        classes = [] #array that will contain all of the unique classes\n",
    "        for i in np.nditer(self._y):\n",
    "            #looks for classes that we have not already found\n",
    "            if i not in classes:\n",
    "                #put the new class into our growing list of classes\n",
    "                #We know all of the classes will be integers, so we force the type to be an int, as this will\n",
    "                #be important for finding the majority label\n",
    "                classes.append(i)\n",
    "        #This sorting will make our matrix into a consistant easily interpretable order\n",
    "        #The sorting eliminates the interpretation's dependence on the order classes are encountered in the above\n",
    "        #For loop\n",
    "        classes.sort()\n",
    "        #The next two lines just get classes into the correct data type\n",
    "        classes = np.array([classes])\n",
    "        classes = list(classes[0])\n",
    "        mapping = []\n",
    "        #if our classes are not integers we would like to map them for indexing purposes\n",
    "        for i in range(0,len(classes)):\n",
    "            mapping.append(i)\n",
    "        #use this unique mapping to make a dictionary for easy lookup\n",
    "        myMap = dict(zip(mapping, classes))\n",
    "        return(myMap)\n",
    "        \n",
    "    def getCounts(self):\n",
    "        \"\"\"\n",
    "        Creates a dictionary storing the counts of each answer class found in y\n",
    "        RETURNS\n",
    "        counts - a dictionary of counts of answer classes\n",
    "        \"\"\"\n",
    "        counts = dict({1:0,-1:0})\n",
    "        #BEGIN Workspace 1.1\n",
    "        #TODO: Modify and/or add to counts so that it returns a count of each answer class found in y\n",
    "        #END Workspace 1.1\n",
    "        \n",
    "        #create an integer mapping of all of the classes in self._y\n",
    "        myMap = self.createClassMap()\n",
    "        \n",
    "        #Get the map values and keys for indexing purposes, and to keep the map consistant\n",
    "        mapValues = list(myMap.values())\n",
    "        mapKeys = list(myMap.keys())\n",
    "        #Initialize an array to keep track of the counts. Each index will correspond to the a key in myMap\n",
    "        countsVals = np.zeros(len(mapValues))\n",
    "        #Iterate through our the subset of our y training data that we are interested in and count each class that \n",
    "        #appears\n",
    "        for i in np.nditer(self._y):\n",
    "            countsVals[mapKeys[mapValues.index(i)]] = countsVals[mapKeys[mapValues.index(i)]]+1\n",
    "        #Make a dictionary that has each classes' counts\n",
    "        counts = dict(zip(mapValues, countsVals.tolist()))   \n",
    "        return(counts)\n",
    "    \n",
    "    def majority(self, indices):\n",
    "        \"\"\"\n",
    "        Given indices, report the majority label of those points.\n",
    "        For a tie, report the most common label in the data set.\n",
    "        PARAMETERS\n",
    "        indices - an np.array, where each element is an index of a neighbor\n",
    "        RETURNS\n",
    "        label - the majority label of our neighbors\n",
    "        \"\"\"\n",
    "        label = 0\n",
    "        #BEGIN Workspace 1.2\n",
    "        #TODO: Determine majority, assign it to label\n",
    "        \n",
    "        #create an integer map of all of the classes in our problem space\n",
    "        myMap = self.createClassMap()\n",
    "        \n",
    "        #-------------------\n",
    "        \n",
    "        mapValues = list(myMap.values())\n",
    "        mapKeys = list(myMap.keys())\n",
    "        #Initialize an array to keep track of all of our counts for each of the classes we found in train_y[indices]\n",
    "        counts = np.zeros(len(mapValues))\n",
    "        #Iterate through our the subset of our y training data that we are interested in and count each class that \n",
    "        #appears\n",
    "        for i in np.nditer(self._y[0][indices]):\n",
    "            counts[mapKeys[mapValues.index(i)]] = counts[mapKeys[mapValues.index(i)]]+1 \n",
    "        #Make a dictionary that has each classes' counts\n",
    "        dictOfClassCounts = dict(zip(mapKeys, counts.tolist()))\n",
    "        \n",
    "        #find the max frequency of a class that appears in our subset of indices, and break ties:\n",
    "        \n",
    "        #make a list of the values that our dictionary contains\n",
    "        vals = list(dictOfClassCounts.values())\n",
    "        #specify a list of the keys in our dictionary of counts\n",
    "        keys = list(dictOfClassCounts.keys())\n",
    "        #find the maximum value in the dictionary\n",
    "        maximum = max(vals)\n",
    "        #Initialize an array to keep track of any ties\n",
    "        maxCounts = []\n",
    "        #iterate through our dictionary\n",
    "        for i in range(0,len(vals)):\n",
    "            #if position i is a maximum value of our dictionary keep track of that class in maxCounts\n",
    "            if vals[i] == maximum:\n",
    "                maxCounts.append(mapValues[mapKeys.index(keys[i])])\n",
    "        #if we had more than 1 max, return the most prevalent value in our data set:\n",
    "        if len(maxCounts) > 1:\n",
    "            #find what classes had ties\n",
    "            temp = self._y[0][list(indices)[0]]\n",
    "            mapValsOfInterest = []\n",
    "            #use our mapping to find what integer values each tied class corresponds to\n",
    "            #put these in mapValsOfInterest\n",
    "            for i in temp:\n",
    "                mapValsOfInterest.append(mapKeys[mapValues.index(i)])\n",
    "            \n",
    "            #----\n",
    "            \n",
    "            #create a list of counts that correspond to our tied classes\n",
    "            overallVals = [list(self._counts.values())[i] for i in mapValsOfInterest]\n",
    "            #create a list of classes that we are interested in\n",
    "            overallKeys = [list(self._counts.keys())[i] for i in mapValsOfInterest]\n",
    "            #find the count of the most frequent class of our subset\n",
    "            maxim = max(overallVals)\n",
    "            #find the class of the most common label\n",
    "            label = overallKeys[overallVals.index(maxim)]\n",
    "        else:\n",
    "            label = maxCounts[0]\n",
    "        #END Workspace 1.2\n",
    "        return(label)\n",
    "    \n",
    "    def classify(self, point):\n",
    "        \"\"\"\n",
    "        Given a new data point, classify it according to the training data X and our number of neighbors k into \n",
    "        the appropriate class in our training answers y\n",
    "        PARAMETERS\n",
    "        point - a feature vector of our test point\n",
    "        RETURNS\n",
    "        ans - our predicted classification\n",
    "        \"\"\"\n",
    "        ans = 0\n",
    "        #BEGIN Workspace 1.3\n",
    "        #TODO: perform classification of point here\n",
    "        #HINT: use the majority function created above\n",
    "        #HINT: use the euclidian distance discussed in lecture to find nearest neighbors\n",
    "        #Turn point into a row vector, needed for python to understand how to query the ball tree\n",
    "        point = point.reshape(1,-1)\n",
    "        distances, indices = self._model.query(point, k=self._k) \n",
    "        ans = self.majority(indices)\n",
    "        #END Workspace 1.3\n",
    "\n",
    "        return(ans)\n",
    "    \n",
    "    def confusionMatrix(self, testX, testY):\n",
    "        \"\"\"\n",
    "        Generate a confusion matrix for the given test set\n",
    "        PARAMETERS\n",
    "        testX - an np.array of feature vectors of test points\n",
    "        testY - the corresponding correct classifications of our test set\n",
    "        RETURN\n",
    "        C - an N*N np.array of counts, where N is the number of classes in our classifier\n",
    "        \"\"\"\n",
    "        #C = np.array()\n",
    "        #BEGIN Workspace 1.4\n",
    "        #TODO: Run classification for the test set, compare to test answers, and add counts to matrix\n",
    "        #Classify test set:\n",
    "        #Initialize our array of predicted Ys\n",
    "        predY = []\n",
    "        #For each set of observations append our model's predicted classification to predY\n",
    "        for i in testX:\n",
    "            predY.append(self.classify(i))\n",
    "        #Now, find confusion matrix\n",
    "        \n",
    "        #make a list of all the classes in our problem space\n",
    "        classes = list(self.createClassMap().values())\n",
    "        #----------\n",
    "        \n",
    "        C = np.zeros((len(classes), len(classes))) #Initialize our confusion matrix with all zeros\n",
    "        #k will keep track of where we are in the predY list as we iterate over testY to create our matrix\n",
    "        k = 0\n",
    "        #Look at the real identity of the testY's\n",
    "        for i in np.nditer(testY):\n",
    "            i = np.array([i])\n",
    "            i = list(i)\n",
    "            i = i[0]\n",
    "            #if the two classes are the same we will increase\n",
    "            C[classes.index(i), classes.index(predY[k])] += 1\n",
    "            k+=1\n",
    "\n",
    "        #END Workspace 1.4\n",
    "        \n",
    "        return(C)\n",
    "    \n",
    "    def accuracy(self, C):\n",
    "        \"\"\"\n",
    "        Generate an accuracy score for the classifier based on the confusion matrix\n",
    "        PARAMETERS\n",
    "        C - an np.array of counts\n",
    "        RETURN\n",
    "        score - an accuracy score\n",
    "        \"\"\"\n",
    "        score = np.sum(C.diagonal()) / C.sum()\n",
    "        return(score)"
   ]
  },
  {
   "cell_type": "markdown",
   "metadata": {},
   "source": [
    "*But professor, this code isn't complete!*\n",
    "\n",
    "### Problem 1: Complete our KNN Classifier - 40 Points (10 each)\n",
    "\n",
    "1.1 - Complete the getCounts function to return the count of each class found in the training set\n",
    "\n",
    "1.2 - Complete the majority function to determine the majority class of a series of neighbors\n",
    "\n",
    "1.3 - Complete the classify function to capture the predicted class of a new datapoint\n",
    "\n",
    " - HINT: Use the BallTree documentation to determine how to retrieve neighbors from the model (https://scikit-learn.org/stable/modules/generated/sklearn.neighbors.BallTree.html#sklearn.neighbors.BallTree)\n",
    "\n",
    "1.4 - Complete the confusionMatrix function to reveal the results of classification\n",
    "\n",
    "You can take a look at the unit tests below to see how we create data to input into our classifier, what kinds of things we expect as output, etc. You should also consider expanding the test cases to make sure your classifier is working correctly.\n"
   ]
  },
  {
   "cell_type": "code",
   "execution_count": 3,
   "metadata": {
    "scrolled": false
   },
   "outputs": [
    {
     "name": "stderr",
     "output_type": "stream",
     "text": [
      "....\n",
      "----------------------------------------------------------------------\n",
      "Ran 4 tests in 0.020s\n",
      "\n",
      "OK\n"
     ]
    },
    {
     "data": {
      "text/plain": [
       "<unittest.runner.TextTestResult run=4 errors=0 failures=0>"
      ]
     },
     "execution_count": 3,
     "metadata": {},
     "output_type": "execute_result"
    }
   ],
   "source": [
    "import unittest\n",
    "class KNNTester(unittest.TestCase):\n",
    "    def setUp(self):\n",
    "        self.x = np.array([[3,1],[2,8], [2,7], [5,2],[3,2],[8,2],[2,4]])\n",
    "        self.y = np.array([[1, -1, -1, 1, -1, 1, -1]])\n",
    "        self.knnfive = KNNClassifier(self.x, self.y)\n",
    "        self.knnthree = KNNClassifier(self.x, self.y, 3)\n",
    "        self.knnone = KNNClassifier(self.x, self.y, 1)\n",
    "        \n",
    "        self.testPoints = np.array([[2,1], [2,6], [4, 4]])\n",
    "        \n",
    "    def testCounter(self):\n",
    "        \"\"\"\n",
    "        Test getCounts function from knnclassifier\n",
    "        \"\"\"\n",
    "        self.assertEqual(self.knnfive._counts[1], 3)\n",
    "        self.assertEqual(self.knnfive._counts[-1], 4)\n",
    "        \n",
    "    def testKNNOne(self):\n",
    "        \"\"\"\n",
    "        Test if the classifier returns \"correct\" (expected) classifications for k = 1\n",
    "        \"\"\"\n",
    "        self.assertEqual(self.knnone.classify(self.testPoints[0]), 1)\n",
    "        #BEGIN Workspace\n",
    "        self.assertEqual(self.knnfive.classify(self.testPoints[1]), -1)\n",
    "        #END Workspace\n",
    "    \n",
    "    #BEGIN Workspace\n",
    "    #Add more test functions as desired\n",
    "    #HINT - You'll want to make sure each of your functions from the KNNClassifier class you created work correctly...\n",
    "    #Used this method to test my confusion matrix, but I was worried it would mess with the autograder\n",
    "    \"\"\"\n",
    "    def testConfusionMatrix(self):\n",
    "        answer = np.matrix([[4,0],[0,3]])\n",
    "        print(\"Confusion Matrix test, picked K = 1, and used the test sets as the training (should have 100% accuracy)\"),\n",
    "        print(np.array_equal(self.knnone.confusionMatrix(self.x, self.y), answer))\n",
    "        C = self.knnone.confusionMatrix(self.x, self.y)\n",
    "        print(\"Accuracy: \"), print(self.knnone.accuracy(C))\n",
    "        answer = np.matrix([[0,3],[4,0]])\n",
    "        print(\"------------------------------\")\n",
    "        C =self.knnone.confusionMatrix(self.x, -1*self.y)\n",
    "        print(\"Confusion matrix test case for 0% accuracy (prints true if passed):\")\n",
    "        print(np.array_equal(self.knnone.confusionMatrix(self.x, -1*self.y), answer))\n",
    "        C = self.knnone.confusionMatrix(self.x, -1*self.y)\n",
    "        print(\"Accuracy: \"), print(self.knnone.accuracy(C))\n",
    "        print(\"------------------------------\")\n",
    "        print(\"Confusion matrix test case for more than 2 classes:\")\n",
    "        altY = np.array([[1, -1, -1, 1, -1, 1, -1]])\n",
    "        altY[0][1] = 4\n",
    "        knnoneMultClass = KNNClassifier(self.x, altY)\n",
    "        C = knnoneMultClass.confusionMatrix(self.x, altY)\n",
    "        print(\"This is just a proof that it would work with another class, we have not adjusted the other\")\n",
    "        print(\"parts of the code to deal with more classes\")\n",
    "        print(C)\n",
    "    \"\"\"\n",
    "    def testEqualNumberOfNeighbors(self):\n",
    "        tempX = np.array([[2,1],[2,1], [2,8], [5,2],[3,2],[8,2],[2,4]])\n",
    "        knnTwo = KNNClassifier(tempX, self.y, 2)\n",
    "        self.assertEqual(knnTwo.classify(self.testPoints[0]), -1)\n",
    "        tempY = np.array([[1, -1, 3, 3, 3, 3, 1]])\n",
    "        knnTwo = KNNClassifier(tempX, tempY, 2)\n",
    "        self.assertEqual(knnTwo.classify(self.testPoints[0]), 1)\n",
    "    def testStringClasses(self):\n",
    "        tempX = np.array([[3,1],[2,8], [2,7], [5,2],[2,1],[2,1],[2,1]])\n",
    "        tempY = np.array([[\"a\", \"b\", \"b\", \"b\", \"c\", \"c\", \"c\"]])\n",
    "        knnString = KNNClassifier(tempX, tempY, 3)\n",
    "        self.assertEqual(knnString.classify(self.testPoints[0]), \"c\")\n",
    "        \n",
    "        \n",
    "                            \n",
    "    #END Workspace\n",
    "    \n",
    "tests = KNNTester()\n",
    "myTests = unittest.TestLoader().loadTestsFromModule(tests)\n",
    "unittest.TextTestRunner().run(myTests)"
   ]
  },
  {
   "cell_type": "markdown",
   "metadata": {},
   "source": [
    "OK - now we've demonstrated that our KNN classifier works, let's think about our problem space! \n",
    "\n",
    "## Our Dataset - Identifying Digits from Images\n",
    "\n",
    "It's a pretty common problem - just imagine working at the post office, or at a bank, and you're handed a hand-written envelope, or check, or other piece of information and you have to identify exactly what it says. Did they pay 500 or 600 dollars? Is the letter going to 80309 (campus) or 30309 (Atlanta)?\n",
    "\n",
    "Let's be a little smart about this - let's up some classes and helper functions to help us out.\n",
    "\n",
    "### Problem 2: Implement KNN on Digits dataset - 30 Points\n",
    "\n",
    "2.1 Randomly divide our Digits dataset into training and testing sets (15 Points)\n",
    "\n",
    "2.2 Report the number of examples in training and testing, as well as measuring then number of pixels in each image (5 points)\n",
    "\n",
    "2.3 Create a confusion matrix of our classifier for K = 5 (10 points) *HINT: Doing this may cause you to catch mistakes in your classifier. Go fix those!*"
   ]
  },
  {
   "cell_type": "code",
   "execution_count": 4,
   "metadata": {},
   "outputs": [],
   "source": [
    "\n",
    "class Numbers:\n",
    "    def __init__(self):\n",
    "        #load data from sklearn\n",
    "        digits = sklearn.datasets.load_digits()\n",
    "        \n",
    "        #BEGIN Workspace 2.1\n",
    "        #TODO: Divide our dataset into Train and Test datasets (80/20 split), replacing the variables above\n",
    "        #Set n for convience as the number of observations\n",
    "        n = len(digits.data)\n",
    "        #Choose 80% of the values from a list [0, n-1] without replacement to get a random subset of indices which\n",
    "        #will comprise our training data\n",
    "        trainIndices = np.random.choice(n, int(np.ceil(.8*n)), replace = False)\n",
    "        \n",
    "        #Choose only the randomly selected 80% of the data to be our training indices (data contains the features\n",
    "        #and target contains their corresponding known digit (the target))\n",
    "        self.train_x = np.array(digits.data[trainIndices]) # A 2D np.array of training examples\n",
    "        self.train_y = np.array([digits.target[trainIndices]]) # A 1D np.array of training answers\n",
    "        \n",
    "        #To get the 20% of the data that is not for training we first make an array of size n of all Trues\n",
    "        testIndices = np.ones(n, dtype = bool)\n",
    "        #After this we select all of the training indices to be false, so only testing indices will be True\n",
    "        testIndices[trainIndices] = False\n",
    "        \n",
    "        #Plugging this in to digits.data and digits.target will give only the observations that are not in our\n",
    "        #training set\n",
    "        self.test_x = np.array(digits.data[testIndices]) # A 2D np.array of testing examples\n",
    "        self.test_y = np.array([digits.target[testIndices]]) # A 1D np.array of testing answers \n",
    "        #END Workspace 2.1\n",
    "        \n",
    "    def report(self):\n",
    "        \"\"\"\n",
    "        Report information about the dataset using the print() function\n",
    "        \"\"\"\n",
    "        #BEGIN Workspace 2.2\n",
    "        #TODO: Create printouts for reporting the size of each set and the size of each datapoint\n",
    "        print(\"The number of examples in the training dataset is:\")\n",
    "        print(len(self.train_x))\n",
    "        print(\"The number of examples in the testing dataset is:\")\n",
    "        print(len(self.test_x))\n",
    "        print(\"The number of pixels in each image is:\")\n",
    "        print(len(self.test_x[0]))\n",
    "        #END Workspace 2.2\n",
    "        \n",
    "    def classify(self):\n",
    "        \"\"\"\n",
    "        Create a classifier using the training data and generate a confusion matrix for the test data\n",
    "        \"\"\"\n",
    "        #BEGIN Workspace 2.3\n",
    "        #TODO: Create classifier from training data, generate confusion matrix for test data\n",
    "        predY = []\n",
    "        label = 0\n",
    "        K = 5\n",
    "        knnK = KNNClassifier(self.train_x, self.train_y, K)\n",
    "        for point in self.test_x: \n",
    "            #Turn point into a row vector, needed for python to understand how to query the ball tree\n",
    "            label = knnK.classify(point)\n",
    "            predY.append(np.round(label))\n",
    "        #Make confusion matrix\n",
    "        C = knnK.confusionMatrix(self.test_x, self.test_y)\n",
    "        #END Workspace 1.4\n",
    "        print(\"Confusion Matrix:\")\n",
    "        print(C)\n",
    "        print(\"Accuracy:\")\n",
    "        print(np.sum(C.diagonal()) / C.sum())\n",
    "        return(predY)\n",
    "        #END Workspace 2.3\n",
    "    def findMisclassified(self, predY):\n",
    "        \"\"\"\n",
    "        Returns the indices of missclassified elements\n",
    "        \"\"\"\n",
    "        indices = []\n",
    "        for i in range(0, len(predY)):\n",
    "            if predY[i] != self.test_y[0][i]:\n",
    "                indices.append(i)\n",
    "        return(indices)\n",
    "    \n",
    "    def getTestSet(self):\n",
    "        return(self.test_y, self.test_x)\n",
    "    \n",
    "    def viewDigit(self, digitImage):\n",
    "        \"\"\"\n",
    "        Display an image of a digit\n",
    "        PARAMETERS\n",
    "        digitImage - a data object from the dataset\n",
    "        \"\"\"\n",
    "        plt.gray()\n",
    "        plt.matshow(digitImage)\n",
    "        plt.show()\n",
    "        "
   ]
  },
  {
   "cell_type": "markdown",
   "metadata": {},
   "source": [
    "*Wow, I can't believe we just created a KNN Classifier - but can't we make it better?*\n",
    "\n",
    "Yes, we saw above that our classifier didn't work perfectly. Let's explore that issue a little further\n",
    "\n",
    "### Problem 3: Improving KNN on Digits - 30 Points\n",
    "\n",
    "3.1 Determine which classes are most often confused (from our confusion matrix above), inspect some examples of these digits (using the viewDigit function in our Numbers class), and write a brief (4 - 5 sentences) description of why you think these particular numbers may be misclassified.\n",
    "\n",
    "3.2 Explore the influence of the number of nearest neighbors (i.e. try changing our K). Plot the relationship between K and accuracy, and write a brief (4 - 5 sentences) description of how this factor impacts our accuracy.\n",
    "\n",
    "3.3 (Bonus) Explore the influence of the train / test split of our data (i.e. copy our Numbers class into Numbers2 below and try changing the split for our dataset). Plot the relationship between the split % and accuracy, and write a brief (4 - 5 sentences) description of its impact."
   ]
  },
  {
   "cell_type": "code",
   "execution_count": 5,
   "metadata": {
    "scrolled": false
   },
   "outputs": [
    {
     "name": "stdout",
     "output_type": "stream",
     "text": [
      "Confusion Matrix:\n",
      "[[28.  0.  0.  0.  0.  0.  0.  0.  0.  0.]\n",
      " [ 0. 39.  0.  0.  0.  0.  0.  0.  0.  0.]\n",
      " [ 0.  0. 33.  0.  0.  0.  0.  0.  0.  0.]\n",
      " [ 0.  0.  0. 30.  0.  0.  0.  0.  0.  0.]\n",
      " [ 0.  0.  0.  0. 43.  0.  0.  1.  0.  0.]\n",
      " [ 0.  0.  0.  0.  0. 39.  1.  0.  0.  1.]\n",
      " [ 0.  0.  0.  0.  0.  0. 39.  0.  0.  0.]\n",
      " [ 0.  0.  0.  0.  0.  0.  0. 38.  0.  0.]\n",
      " [ 0.  2.  0.  1.  0.  0.  0.  0. 27.  0.]\n",
      " [ 0.  0.  0.  0.  0.  0.  0.  0.  0. 37.]]\n",
      "Accuracy:\n",
      "0.9832869080779945\n"
     ]
    },
    {
     "data": {
      "text/plain": [
       "<Figure size 432x288 with 0 Axes>"
      ]
     },
     "metadata": {},
     "output_type": "display_data"
    },
    {
     "data": {
      "image/png": "[encoded data removed]",
      "text/plain": [
       "<Figure size 288x288 with 1 Axes>"
      ]
     },
     "metadata": {
      "needs_background": "light"
     },
     "output_type": "display_data"
    },
    {
     "name": "stdout",
     "output_type": "stream",
     "text": [
      "For the above digit we predicted: \n",
      "1\n",
      "When the actual digit was: \n",
      "8\n"
     ]
    },
    {
     "data": {
      "text/plain": [
       "<Figure size 432x288 with 0 Axes>"
      ]
     },
     "metadata": {},
     "output_type": "display_data"
    },
    {
     "data": {
      "image/png": "[encoded data removed]",
      "text/plain": [
       "<Figure size 288x288 with 1 Axes>"
      ]
     },
     "metadata": {
      "needs_background": "light"
     },
     "output_type": "display_data"
    },
    {
     "name": "stdout",
     "output_type": "stream",
     "text": [
      "For the above digit we predicted: \n",
      "9\n",
      "When the actual digit was: \n",
      "5\n"
     ]
    },
    {
     "data": {
      "text/plain": [
       "<Figure size 432x288 with 0 Axes>"
      ]
     },
     "metadata": {},
     "output_type": "display_data"
    },
    {
     "data": {
      "image/png": "[encoded data removed]",
      "text/plain": [
       "<Figure size 288x288 with 1 Axes>"
      ]
     },
     "metadata": {
      "needs_background": "light"
     },
     "output_type": "display_data"
    },
    {
     "name": "stdout",
     "output_type": "stream",
     "text": [
      "For the above digit we predicted: \n",
      "7\n",
      "When the actual digit was: \n",
      "4\n"
     ]
    },
    {
     "data": {
      "text/plain": [
       "<Figure size 432x288 with 0 Axes>"
      ]
     },
     "metadata": {},
     "output_type": "display_data"
    },
    {
     "data": {
      "image/png": "[encoded data removed]",
      "text/plain": [
       "<Figure size 288x288 with 1 Axes>"
      ]
     },
     "metadata": {
      "needs_background": "light"
     },
     "output_type": "display_data"
    },
    {
     "name": "stdout",
     "output_type": "stream",
     "text": [
      "For the above digit we predicted: \n",
      "1\n",
      "When the actual digit was: \n",
      "8\n"
     ]
    },
    {
     "data": {
      "text/plain": [
       "<Figure size 432x288 with 0 Axes>"
      ]
     },
     "metadata": {},
     "output_type": "display_data"
    },
    {
     "data": {
      "image/png": "[encoded data removed]",
      "text/plain": [
       "<Figure size 288x288 with 1 Axes>"
      ]
     },
     "metadata": {
      "needs_background": "light"
     },
     "output_type": "display_data"
    },
    {
     "name": "stdout",
     "output_type": "stream",
     "text": [
      "For the above digit we predicted: \n",
      "3\n",
      "When the actual digit was: \n",
      "8\n"
     ]
    },
    {
     "data": {
      "text/plain": [
       "<Figure size 432x288 with 0 Axes>"
      ]
     },
     "metadata": {},
     "output_type": "display_data"
    },
    {
     "data": {
      "image/png": "[encoded data removed]",
      "text/plain": [
       "<Figure size 288x288 with 1 Axes>"
      ]
     },
     "metadata": {
      "needs_background": "light"
     },
     "output_type": "display_data"
    },
    {
     "name": "stdout",
     "output_type": "stream",
     "text": [
      "For the above digit we predicted: \n",
      "6\n",
      "When the actual digit was: \n",
      "5\n"
     ]
    }
   ],
   "source": [
    "#BEGIN 3.1a\n",
    "#TODO: Print out problem class images\n",
    "testInstance = Numbers()\n",
    "digits, data = testInstance.getTestSet()\n",
    "predY = testInstance.classify()\n",
    "misclassified = testInstance.findMisclassified(predY)\n",
    "k=0\n",
    "for i in misclassified:\n",
    "    testInstance.viewDigit(data[i].reshape(8,8))\n",
    "    print(\"For the above digit we predicted: \"), print(predY[i]), \n",
    "    print(\"When the actual digit was: \"), print(digits[0][i])\n",
    "#END 3.1a"
   ]
  },
  {
   "cell_type": "markdown",
   "metadata": {},
   "source": [
    "#### 3.1b\n",
    "The primary motif of the misclassified images are that they share many aspects to other letters in the set. take 9 and 3 for example, as these seem to be frequently misclassified by our algorithm. A 9 is basically a 3 with the top two loops of the 3 being closed, but there is very little difference between them otherwise. This means that our classifier must be senstive to only a couple of pixels in order to make this distinction as most of the structure will be largely the same. This is sometimes a hard choice to make, especially when we are simply finding which members of the data set are close to one another. This can be said about all of our misclassifications, especially when the algorithm mixes up an 8 for a 6 or vise versa, again a 6 is just an 8 with the top loop opened so our algorithm must be incredibly precise at picking just a few pixels of difference to notice the distinction in some cases."
   ]
  },
  {
   "cell_type": "code",
   "execution_count": 6,
   "metadata": {},
   "outputs": [
    {
     "data": {
      "image/png": "[encoded data removed]",
      "text/plain": [
       "<Figure size 360x360 with 1 Axes>"
      ]
     },
     "metadata": {
      "needs_background": "light"
     },
     "output_type": "display_data"
    },
    {
     "data": {
      "image/png": "[encoded data removed]",
      "text/plain": [
       "<Figure size 360x360 with 1 Axes>"
      ]
     },
     "metadata": {
      "needs_background": "light"
     },
     "output_type": "display_data"
    }
   ],
   "source": [
    "class Numbers2:\n",
    "    def __init__(self, trainPercentage):\n",
    "        #load data from sklearn\n",
    "        digits = sklearn.datasets.load_digits()\n",
    "        \n",
    "        #BEGIN Workspace 3.3a\n",
    "        #TODO: Divide our dataset into Train and Test datasets (using trainPercentage), replacing the variables above\n",
    "        #HINT: You should be able to mostly copy your own work from the original Numbers class\n",
    "        #Set n for convience as the number of observations\n",
    "        n = len(digits.data)\n",
    "        #Choose trainPercentage of the values from a list [0, n-1] without replacement to get a random subset of indices which\n",
    "        #will comprise our training data\n",
    "        trainIndices = np.random.choice(n, int(np.ceil(trainPercentage*n)), replace = False)\n",
    "        \n",
    "        #Choose only the randomly selected 80% of the data to be our training indices (data contains the features\n",
    "        #and target contains their corresponding known digit (the target))\n",
    "        self.train_x = np.array(digits.data[trainIndices]) # A 2D np.array of training examples\n",
    "        self.train_y = np.array([digits.target[trainIndices]]) # A 1D np.array of training answers\n",
    "        self.ballTree_x = sklearn.neighbors.BallTree(self.train_x)\n",
    "        \n",
    "        #To get the 20% of the data that is not for training we first make an array of size n of all Trues\n",
    "        testIndices = np.ones(n, dtype = bool)\n",
    "        #After this we select all of the training indices to be false, so only testing indices will be True\n",
    "        testIndices[trainIndices] = False\n",
    "        \n",
    "        #Plugging this in to digits.data and digits.target will give only the observations that are not in our\n",
    "        #training set\n",
    "        self.test_x = np.array(digits.data[testIndices]) # A 2D np.array of testing examples\n",
    "        self.test_y = np.array([digits.target[testIndices]]) # A 1D np.array of testing answers \n",
    "        #END Workspace 3.3a\n",
    "    \n",
    "    def classify(self, k):\n",
    "        \"\"\"\n",
    "        Create a classifier using the training data and generate a confusion matrix for the test data\n",
    "        \"\"\"\n",
    "        #BEGIN Workspace 3.2a\n",
    "        #TODO: Create classifier from training data (using k nearest neighbors), generate confusion matrix for test data\n",
    "        #HINT: You can copy your own work from the original Numbers class\n",
    "        predY = []\n",
    "        label = 0\n",
    "        K = 5\n",
    "        knnK = KNNClassifier(self.train_x, self.train_y, k)\n",
    "        for point in self.test_x: \n",
    "            #Turn point into a row vector, needed for python to understand how to query the ball tree\n",
    "            label = knnK.classify(point)\n",
    "            predY.append(np.round(label))\n",
    "        #Make confusion matrix\n",
    "        C = knnK.confusionMatrix(self.test_x, self.test_y)\n",
    "        return(np.sum(C.diagonal()) / C.sum())\n",
    "        #END Workspace 3.2a\n",
    "        \n",
    "    def viewDigit(digitImage):\n",
    "        \"\"\"\n",
    "        Display an image of a digit\n",
    "        PARAMETERS\n",
    "        digitImage - a data object from the dataset\n",
    "        \"\"\"\n",
    "        plt.gray()\n",
    "        plt.matshow(digitImage)\n",
    "        plt.show()\n",
    "\n",
    "classifier = Numbers2(.8)\n",
    "kClassificationAcc = []\n",
    "#for loop will run k-nearest neighbors on each value of k from 1 to 99\n",
    "for i in range(1,100):\n",
    "    kClassificationAcc.append(classifier.classify(i))\n",
    "#plot the accuracy vs the number of neighbors used in the classifier\n",
    "kvec = np.linspace(1,99,99)\n",
    "fig = plt.figure(figsize=(5,5))  # initialize figure with a given area in inches\n",
    "plt.plot(kvec, kClassificationAcc,linewidth=4.0)\n",
    "plt.xlabel('Number of Neighbors Used in Classifier')\n",
    "plt.ylabel('Accuracy')\n",
    "plt.show()\n",
    "\n",
    "#Create linearly spaced points from .1 to .99\n",
    "splitvec = np.linspace(.1,.99, 100)\n",
    "kClassificationAcc = []\n",
    "for i in np.nditer(splitvec):\n",
    "    classifier = Numbers2(i)\n",
    "    kClassificationAcc.append(classifier.classify(5))\n",
    "#plot the points using splits from .1 to .99% of the data used\n",
    "fig = plt.figure(figsize=(5,5))  # initialize figure with a given area in inches\n",
    "plt.plot(splitvec, kClassificationAcc,linewidth=4.0)\n",
    "plt.xlabel('Percent of Dataset Used in Training Set')\n",
    "plt.ylabel('Accuracy (Using K = 5)')\n",
    "plt.show()"
   ]
  },
  {
   "cell_type": "markdown",
   "metadata": {},
   "source": [
    "#### 3.2b\n",
    "The number of neighbors K that are used in our classifier appear to have a negative impact on the accuracy of our predictor when applied to the test set. This is because when using too many we are underfitting our model to the data set. Consider the case where K = the number of observations in the training set. This would mean that we would simply classify all novel points as the most common class in our training set, basically nullifying the entire point of applying an algorithm to make predictions. As we increase K we get closer and closer to making this mistake, which is why the accuracy is falling: because we are using points that are nowhere near our novel data points.\n",
    "\n",
    "#### 3.3b\n",
    "It appears that, in general, using more of the data set as training data improves accuracy on the test set, though only to a point. We can note that as we approach 1 (using the whole data set as the training data) we are getting a lot more variability in the accuracy when applying our algorithm to the test set. This could be because using more data is actually overfitting our model, or it could be because as our test set gets smaller the variance will increase simply because there are too few points to get a statistically accurate idea of how our model is preforming. Whatever the case, it appears that there is a 'sweet spot' in accuracy of our model and consistantly being able to validate said model that occurs around 80% of the data used as training data. This leaves us with enough data in the test set to validate our model, while still giving us close to the maximum accuracy that our model is capable of."
   ]
  },
  {
   "cell_type": "code",
   "execution_count": null,
   "metadata": {},
   "outputs": [],
   "source": []
  }
 ],
 "metadata": {
  "kernelspec": {
   "display_name": "Python 3",
   "language": "python",
   "name": "python3"
  },
  "language_info": {
   "codemirror_mode": {
    "name": "ipython",
    "version": 3
   },
   "file_extension": ".py",
   "mimetype": "text/x-python",
   "name": "python",
   "nbconvert_exporter": "python",
   "pygments_lexer": "ipython3",
   "version": "3.7.4"
  }
 },
 "nbformat": 4,
 "nbformat_minor": 2
}
