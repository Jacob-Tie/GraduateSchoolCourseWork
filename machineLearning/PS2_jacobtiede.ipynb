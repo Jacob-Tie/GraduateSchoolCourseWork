{
 "cells": [
  {
   "cell_type": "markdown",
   "metadata": {},
   "source": [
    "# Homework 2 - Logistic Regression\n",
    "## CSCI 5622 - Spring 2019\n",
    "***\n",
    "**Name**: Jacob Tiede\n",
    "***\n",
    "\n",
    "This assignment is due on Canvas by **11.59 PM on Wednesday, February 26th**. Submit only this Jupyter notebook to Canvas.  Do not compress it using tar, rar, zip, etc. Your solutions to analysis questions should be done in Markdown directly below the associated question.  Remember that you are encouraged to discuss the problems with your classmates and instructors, but **you must write all code and solutions on your own**, and list any people or sources consulted. The only exception to this rule is that you may copy code directly from your own solution to homework 1."
   ]
  },
  {
   "cell_type": "markdown",
   "metadata": {},
   "source": [
    "## Overview \n",
    "***\n",
    "\n",
    "\n",
    "Your task for this homework is to build a logistic regression model that implements stochastic gradient ascent. You'll apply it to the task of determining whether a number is 8 or 9\n",
    "\n",
    "We start by importing and plotting the given data"
   ]
  },
  {
   "cell_type": "code",
   "execution_count": 1,
   "metadata": {},
   "outputs": [],
   "source": [
    "import numpy as np\n",
    "import matplotlib.pylab as plt\n",
    "%matplotlib inline "
   ]
  },
  {
   "cell_type": "markdown",
   "metadata": {},
   "source": [
    "### [ 70 points] Problem 1: Implementing the Logistic Regression Classifier for Binary Classification\n",
    "***"
   ]
  },
  {
   "cell_type": "code",
   "execution_count": 2,
   "metadata": {},
   "outputs": [],
   "source": [
    "import matplotlib.pylab as plt\n",
    "%matplotlib inline\n",
    "import pickle, gzip       \n",
    "import numpy as np\n",
    "\n",
    "class Numbers:\n",
    "    \"\"\"\n",
    "    Class to store MNIST data for images of 9 and 8 only\n",
    "    \"\"\" \n",
    "    def __init__(self, location):\n",
    "        # You shouldn't have to modify this class, but you can if you'd like\n",
    "        # Load the dataset\n",
    "        with gzip.open(location, 'rb') as f:\n",
    "            train_set, valid_set, test_set = pickle.load(f)\n",
    " \n",
    "        self.train_x, self.train_y = train_set\n",
    "        train_indices = np.where(self.train_y > 7)\n",
    "        self.train_x, self.train_y = self.train_x[train_indices], self.train_y[train_indices]\n",
    "        self.train_y = self.train_y - 8\n",
    " \n",
    "        self.valid_x, self.valid_y = valid_set\n",
    "        valid_indices = np.where(self.valid_y > 7)\n",
    "        self.valid_x, self.valid_y = self.valid_x[valid_indices], self.valid_y[valid_indices]\n",
    "        self.valid_y = self.valid_y - 8"
   ]
  },
  {
   "cell_type": "code",
   "execution_count": 3,
   "metadata": {},
   "outputs": [],
   "source": [
    "data = Numbers('./mnist.pklz')"
   ]
  },
  {
   "cell_type": "markdown",
   "metadata": {},
   "source": [
    "In this homework you'll implement a Logistic Regression classifier to take drawings of either an eight or a nine and output the corresponding label.\n",
    "* [10 pts] Finish the `calculate_score` function to return the output of applying the dot product of the weights with the input parameter\n",
    "\n",
    "* [10 pts] Finish the `sigmoid` function to return the output of applying the sigmoid function to the calculated score\n",
    "\n",
    "* [10 pts] Finish the `compute_gradient` function to return the derivate of the cost w.r.t. the weights\n",
    "\n",
    "* [10 pts] Finish the `sgd_update` function so that it performs stochastic gradient descent on the single training example and updates the weight vector correspondingly\n",
    "\n",
    "* [10 pts] Finish the `mini_batch_update` function so that it performs mini-batch gradient descent on the batches of the training data set example and updates the weight vector correspondingly"
   ]
  },
  {
   "cell_type": "code",
   "execution_count": 4,
   "metadata": {},
   "outputs": [],
   "source": [
    "from collections import defaultdict\n",
    "class LogReg:\n",
    "    \n",
    "    def __init__(self, X, y, eta = 0.1):\n",
    "        \"\"\"\n",
    "        Create a logistic regression classifier\n",
    "        :param num_features: The number of features (including bias)\n",
    "        :param eta: Learning rate (the default is a constant value)\n",
    "        :method: This should be the name of the method (sgd_update or mini_batch_descent)\n",
    "        :batch_size: optional argument that is needed only in the case of mini_batch_descent\n",
    "        \"\"\"\n",
    "        self.X = X\n",
    "        self.y = y\n",
    "        self.w = self.initializeWeights() \n",
    "        self.eta = eta\n",
    "        \n",
    "    def initializeWeights(self):\n",
    "        #This will initialize the weights to something close to, but not quite, zero\n",
    "        w = np.zeros(self.X.shape[1])\n",
    "        for i in range(0, len(w)):\n",
    "            e = np.random.uniform(-.001, .001)\n",
    "            w[i] = w[i] + e\n",
    "        return w\n",
    "    def calculate_score(self, x):\n",
    "        \"\"\"\n",
    "        :param x: This can be a single training example or it could be n training examples\n",
    "        :return score: Calculate the score that you will plug into the logistic function\n",
    "        \"\"\"\n",
    "        # TODO: Compute the score to be fed to the sigmoid function\n",
    "        score = np.dot(self.w, np.transpose(x))\n",
    "        return(score)\n",
    "    \n",
    "    def sigmoid(self, score):\n",
    "        \"\"\"\n",
    "        :param score: Either a real valued number or a vector to convert into a number between 0 and 1\n",
    "        :return sigmoid: Calcuate the output of applying the sigmoid function to the score. This could be a single\n",
    "        value or a vector depending on the input\n",
    "        \"\"\"\n",
    "        # TODO: Complete this function to return the output of applying the sigmoid function to the score\n",
    "        sigmoid = 1/(1+np.exp(-score))\n",
    "        return(sigmoid)\n",
    "        \n",
    "    \n",
    "    def compute_gradient(self, x, h, y):\n",
    "        \"\"\"\n",
    "        :param x: Feature vector\n",
    "        :param h: predicted class label\n",
    "        :param y: real class label\n",
    "        :return gradient: Return the derivate of the cost w.r.t to the weights\n",
    "        \"\"\"\n",
    "        # TODO: Finish this function to compute the gradient\n",
    "        gradient = np.dot(np.transpose(np.subtract(self.sigmoid(self.calculate_score(x)),y)), x)\n",
    "        return(gradient)\n",
    "        \n",
    "     \n",
    "    def sgd_update(self):\n",
    "        \"\"\"\n",
    "        Compute a stochastic gradient update over the entire dataset to improve the log likelihood.\n",
    "        :param x_i: The features of the example to take the gradient with respect to\n",
    "        :param y: The target output of the example to take the gradient with respect to\n",
    "        :return: Return the new value of the regression coefficients\n",
    "        \"\"\" \n",
    "        # TODO: Finish this function to do a stochastic gradient descent update over the entire dataset\n",
    "        # and return the updated weight vector\n",
    "        # Set these variables for convience\n",
    "        x_i = self.X\n",
    "        y = self.y\n",
    "        w = self.w\n",
    "        stepSize = self.eta\n",
    "        # For each separate observation in X preform stocastic gradient descent\n",
    "        for i in range(0, x_i.shape[0]):\n",
    "            w = w - np.multiply(stepSize, self.compute_gradient(x_i[i,:], 0, y[i]))\n",
    "            self.w = w\n",
    "        return(w)\n",
    "        \n",
    "    \n",
    "    def mini_batch_update(self, batch_size):\n",
    "        \"\"\"\n",
    "        One iteration of the mini-batch update over the entire dataset (one sweep of the dataset).\n",
    "        :param X: NumPy array of features (size : no of examples X features)\n",
    "        :param y: Numpy array of class labels (size : no of examples X 1)\n",
    "        :param batch_size: size of the batch for gradient update\n",
    "        :returns w: Coefficients of the classifier (after updating)\n",
    "        \"\"\"\n",
    "        # TODO: Performing mini-batch training follows the same steps as in stochastic gradient descent,\n",
    "        # the only major difference is that we’ll use batches of training examples instead of one. \n",
    "        # Here we decide a batch size, which is the number of examples that will be fed into the \n",
    "        # computational graph at once.\n",
    "        \n",
    "        # n is set for ease of use\n",
    "        n = self.X.shape[0]\n",
    "        # k will keep track of where we are in our data set as we iterate through\n",
    "        k = 0\n",
    "        # each loop will increment k += batch_size indicating where our next batch will start. Since we need to \n",
    "        # run across all of X we stop after k is at most n + batch_size\n",
    "        \n",
    "        # NOTE: This will occationally over shoot the set entirely and give x_i and y to be an empty value\n",
    "        # This does not affect the end result as it will simply give w = w - 0, so I decided to keep this \n",
    "        # implementation since it will work for any batch_size \n",
    "        while k < n + batch_size + 1:\n",
    "            #make sure that the batch we select\n",
    "            if k + batch_size <= n:\n",
    "                x_i = self.X[k:k+batch_size,:]\n",
    "                y = self.y[k:k+batch_size]\n",
    "            else:\n",
    "                x_i = self.X[k:n,:]\n",
    "                y = self.y[k:n]\n",
    "            # update k\n",
    "            k = k + batch_size\n",
    "            # set w for ease of use\n",
    "            w = self.w\n",
    "            # set step size for ease of use\n",
    "            stepSize = self.eta\n",
    "            # Update using gradient descent\n",
    "            w = w - np.multiply(stepSize, self.compute_gradient(x_i, 0, y))\n",
    "            # Update w in the object\n",
    "            self.w = w\n",
    "        return(w)\n",
    "        \n",
    "    \n",
    "    def progress(self, test_x, test_y, update_method, *batch_size):\n",
    "        \"\"\"\n",
    "        Given a set of examples, computes the probability and accuracy\n",
    "        :param test_x: The features of the test dataset to score\n",
    "        :param test_y: The features of the test \n",
    "        :param update_method: The update method to be used, either 'sgd_update' or 'mini_batch_update'\n",
    "        :param batch_size: Optional arguement to be given only in case of mini_batch_update\n",
    "        :return: A tuple of (log probability, accuracy)\n",
    "        \"\"\"\n",
    "        # TODO: Complete this function to compute the predicted value for an example based on the logistic value\n",
    "        # and return the log probability and the accuracy of those predictions\n",
    "        \n",
    "        # Check which update method to use and then update\n",
    "        if update_method == \"sgd_update\":\n",
    "            self.sgd_update()\n",
    "        else:\n",
    "            self.mini_batch_update(batch_size[0])\n",
    "        #find the log likelihood\n",
    "        predictions = self.sigmoid(self.calculate_score(test_x))\n",
    "        logProb = sum(np.add(np.multiply(test_y,np.log(predictions)), np.multiply(1-test_y, np.log(1-predictions))))\n",
    "        \n",
    "        #set these variables for convience\n",
    "        maxi = max(self.y)\n",
    "        mini = min(self.y)\n",
    "        #using a threshold of .5 put each prediction into a single class (0 or 1)\n",
    "        for i in range(0, len(predictions)):\n",
    "            if predictions[i] >= .5:\n",
    "                predictions[i] = maxi\n",
    "            else:\n",
    "                predictions[i] = mini\n",
    "        #Count the number of examples that we got right in the training\n",
    "        numRight = 0\n",
    "        for i in range(0, len(predictions)):\n",
    "            if predictions[i] == test_y[i]:\n",
    "                numRight = numRight + 1\n",
    "        # calculate the accuracy as a percent\n",
    "        accuracy = numRight/len(test_y)\n",
    "        return(logProb, accuracy)\n",
    "    \n",
    "    def shuffle(self):\n",
    "        #Shuffles the data\n",
    "        n = len(self.y)\n",
    "        shuffledIndices = np.random.choice(n, n, replace = False)\n",
    "        self.X = self.X[shuffledIndices]\n",
    "        self.y = self.y[shuffledIndices]"
   ]
  },
  {
   "cell_type": "code",
   "execution_count": 5,
   "metadata": {},
   "outputs": [
    {
     "name": "stderr",
     "output_type": "stream",
     "text": [
      "...\n",
      "----------------------------------------------------------------------\n",
      "Ran 3 tests in 0.005s\n",
      "\n",
      "OK\n"
     ]
    },
    {
     "data": {
      "text/plain": [
       "<unittest.runner.TextTestResult run=3 errors=0 failures=0>"
      ]
     },
     "execution_count": 5,
     "metadata": {},
     "output_type": "execute_result"
    }
   ],
   "source": [
    "import unittest\n",
    "\n",
    "class LogRegTester(unittest.TestCase):\n",
    "    def setUp(self):\n",
    "        self.X = np.array([[0.1, 0.3 ], [0.4, 0.6], [0.8, 0.1], [0.8, 0.1], [0.5, 0.8]])\n",
    "        self.y = np.array([0,  0, 1, 1,  0])\n",
    "        self.log_reg_classifier_1 = LogReg(self.X, self.y, 0.5)\n",
    "        self.log_reg_classifier_2 = LogReg(self.X, self.y, 0.5)\n",
    "        \n",
    "    def test_sgd_update(self):\n",
    "        \"\"\"\n",
    "        Test sgd_update function from LogReg\n",
    "        \"\"\"\n",
    "        weights = self.log_reg_classifier_1.sgd_update()\n",
    "        self.assertEqual(round(weights[0], 2), 0.16)\n",
    "        self.assertEqual(round(weights[1], 2), -0.37)\n",
    "        \n",
    "    def tests_mini_batch_update(self):\n",
    "        \"\"\"\n",
    "        Test mini_batch_update function from LogReg\n",
    "        \"\"\"\n",
    "        weights = self.log_reg_classifier_2.mini_batch_update(2)\n",
    "        self.assertEqual(round(weights[0], 2), 0.17)\n",
    "        self.assertEqual(round(weights[1], 2), -0.37)\n",
    "        \n",
    "    def tests_progress_sgd_update(self):\n",
    "        \"\"\"\n",
    "        Test progress function from LogReg with method = 'sgd_update'\n",
    "        \"\"\"\n",
    "        self.log_reg_classifier_1 = LogReg(self.X[:4], self.y[:4], 0.5)\n",
    "        log_prob, accuracy = self.log_reg_classifier_1.progress(self.X[4:], self.y[4:], 'sgd_update')\n",
    "        self.assertEqual(round(log_prob, 1), -0.7)  # Changed to round 1.\n",
    "        self.assertEqual(accuracy, 0)\n",
    "        \n",
    "        \n",
    "        \n",
    "    \n",
    "    #BEGIN Workspace\n",
    "    #Add more test functions as required\n",
    "    #HINT - You'll want to make sure your\n",
    "    #END Workspace\n",
    "    \n",
    "tests = LogRegTester()\n",
    "myTests = unittest.TestLoader().loadTestsFromModule(tests)\n",
    "unittest.TextTestRunner().run(myTests)"
   ]
  },
  {
   "cell_type": "code",
   "execution_count": 6,
   "metadata": {
    "deletable": false,
    "editable": false,
    "nbgrader": {
     "cell_type": "code",
     "checksum": "66271acf9fa2ad5ba37138c6c65d0e4b",
     "grade": true,
     "grade_id": "cell-6dae20a6650e207a",
     "locked": true,
     "points": 10,
     "schema_version": 3,
     "solution": false,
     "task": false
    }
   },
   "outputs": [],
   "source": [
    "# DO NOT DELETE THIS CELL !!!"
   ]
  },
  {
   "cell_type": "code",
   "execution_count": 7,
   "metadata": {
    "deletable": false,
    "editable": false,
    "nbgrader": {
     "cell_type": "code",
     "checksum": "fc5fb2bf05afb8b55193714209151048",
     "grade": true,
     "grade_id": "cell-758427c4f39cdc27",
     "locked": true,
     "points": 10,
     "schema_version": 3,
     "solution": false,
     "task": false
    }
   },
   "outputs": [],
   "source": [
    "# DO NOT DELETE THIS CELL !!!"
   ]
  },
  {
   "cell_type": "code",
   "execution_count": 8,
   "metadata": {
    "deletable": false,
    "editable": false,
    "nbgrader": {
     "cell_type": "code",
     "checksum": "d8de3625beec198e3f16aeae05b6343d",
     "grade": true,
     "grade_id": "cell-4faa4c852f8052c5",
     "locked": true,
     "points": 10,
     "schema_version": 3,
     "solution": false,
     "task": false
    }
   },
   "outputs": [],
   "source": [
    "# DO NOT DELETE THIS CELL !!!"
   ]
  },
  {
   "cell_type": "code",
   "execution_count": 9,
   "metadata": {
    "deletable": false,
    "editable": false,
    "nbgrader": {
     "cell_type": "code",
     "checksum": "e5a0d847dc62f3be14b1741bd706757f",
     "grade": true,
     "grade_id": "cell-83bae9107e0d2269",
     "locked": true,
     "points": 10,
     "schema_version": 3,
     "solution": false,
     "task": false
    }
   },
   "outputs": [],
   "source": [
    "# DO NOT DELETE THIS CELL !!!"
   ]
  },
  {
   "cell_type": "code",
   "execution_count": 10,
   "metadata": {
    "deletable": false,
    "editable": false,
    "nbgrader": {
     "cell_type": "code",
     "checksum": "25cfd3959691f614fae03fbe78d14a4b",
     "grade": true,
     "grade_id": "cell-3ef057a9059ef5d4",
     "locked": true,
     "points": 10,
     "schema_version": 3,
     "solution": false,
     "task": false
    }
   },
   "outputs": [],
   "source": [
    "# DO NOT DELETE THIS CELL !!!"
   ]
  },
  {
   "cell_type": "markdown",
   "metadata": {},
   "source": [
    "**Q:** After completing the class above, loop over the training data and perform ___stochastic gradient descent___ for 10 epochs, and five different values of eta range [.0001, .01, .1, .5, 1]. Train your model and do the following:\n",
    "\n",
    "* [2.5 pts] PART A : Create a new classifier object and Using the `progress` method, calculate the accuracy on the __training sets__ at the end of each epoch and store it. Plot the accuracy trends for the different values of eta on same graph.\n",
    "\n",
    "* [2.5 pts] PART B : Create a new classifier object and Using the `progress` method, calculate the accuracy on the __validation set__ at the end of each epoch and store it. Plot the accuracy trends for the different values of eta on same graph.\n",
    "\n",
    "Don't forget to shuffle your training data after each epoch."
   ]
  },
  {
   "cell_type": "markdown",
   "metadata": {},
   "source": [
    "Implement part A below. DO NOT DELETE THE CELL"
   ]
  },
  {
   "cell_type": "code",
   "execution_count": 11,
   "metadata": {
    "deletable": false,
    "nbgrader": {
     "cell_type": "code",
     "checksum": "dab6194829c3f760a0700843b8ac0d14",
     "grade": true,
     "grade_id": "cell-ef8affc8f47de848",
     "locked": false,
     "points": 2.5,
     "schema_version": 3,
     "solution": true,
     "task": false
    },
    "scrolled": false
   },
   "outputs": [
    {
     "name": "stderr",
     "output_type": "stream",
     "text": [
      "/home/jat/anaconda3/lib/python3.7/site-packages/ipykernel_launcher.py:140: RuntimeWarning: divide by zero encountered in log\n",
      "/home/jat/anaconda3/lib/python3.7/site-packages/ipykernel_launcher.py:140: RuntimeWarning: invalid value encountered in multiply\n"
     ]
    },
    {
     "data": {
      "image/png": "[encoded data removed]",
      "text/plain": [
       "<Figure size 432x288 with 1 Axes>"
      ]
     },
     "metadata": {
      "needs_background": "light"
     },
     "output_type": "display_data"
    }
   ],
   "source": [
    "#Values of Eta that we should check\n",
    "etaVals = [.0001, .01, .1, .5, 1]\n",
    "#Initialize a vector to keep track of the accuracy at each epoch\n",
    "acc = []\n",
    "# since we are looking at 10 epochs\n",
    "numIter = np.linspace(1,10, 10)\n",
    "# Append the bias\n",
    "X_train = np.append(np.ones((len(data.train_y), 1)), data.train_x, 1)\n",
    "#For each step size step through 10 epochs and record accuracy\n",
    "for i in etaVals:\n",
    "    acc = []\n",
    "    # make a logistic regression object with learning rate i\n",
    "    logRegObj = LogReg(X_train, data.train_y, i)\n",
    "    #step through 10 epochs\n",
    "    for j in range(0,10):\n",
    "        #Shuffle before each stochastic descent\n",
    "        logRegObj.shuffle()\n",
    "        #Get the accuracy after the epoch and append it to the list\n",
    "        acc.append(logRegObj.progress(X_train, data.train_y, 'sgd_update')[1])\n",
    "    #Plot Accuracy vs epoch\n",
    "    plt.plot(numIter, acc, label = i)\n",
    "#Make the plot look good\n",
    "plt.legend(loc=\"lower right\")\n",
    "plt.title(\"Accuracy on the training set for SGD\")\n",
    "plt.xlabel(\"Epoch number\")\n",
    "plt.ylabel(\"Accuracy\")\n",
    "plt.show()"
   ]
  },
  {
   "cell_type": "markdown",
   "metadata": {},
   "source": [
    "Implement part B below. DO NOT DELETE THE CELL"
   ]
  },
  {
   "cell_type": "code",
   "execution_count": 12,
   "metadata": {
    "deletable": false,
    "nbgrader": {
     "cell_type": "code",
     "checksum": "1fb60d22338d71c2da37a063263b109c",
     "grade": true,
     "grade_id": "cell-ec6999395608d8f1",
     "locked": false,
     "points": 2.5,
     "schema_version": 3,
     "solution": true,
     "task": false
    }
   },
   "outputs": [
    {
     "name": "stderr",
     "output_type": "stream",
     "text": [
      "/home/jat/anaconda3/lib/python3.7/site-packages/ipykernel_launcher.py:140: RuntimeWarning: divide by zero encountered in log\n",
      "/home/jat/anaconda3/lib/python3.7/site-packages/ipykernel_launcher.py:140: RuntimeWarning: invalid value encountered in multiply\n"
     ]
    },
    {
     "data": {
      "image/png": "[encoded data removed]",
      "text/plain": [
       "<Figure size 432x288 with 1 Axes>"
      ]
     },
     "metadata": {
      "needs_background": "light"
     },
     "output_type": "display_data"
    }
   ],
   "source": [
    "#see above for comments on the logic (as it is similar to the first graph)\n",
    "etaVals = [.0001, .01, .1, .5, 1]\n",
    "acc = []\n",
    "numIter = np.linspace(1,10, 10)\n",
    "#Append bias\n",
    "X_valid = np.append(np.ones((len(data.valid_y), 1)), data.valid_x, 1)\n",
    "for i in etaVals:\n",
    "    acc = []\n",
    "    logRegObj = LogReg(X_train, data.train_y, i)\n",
    "    for j in range(0,10):\n",
    "        logRegObj.shuffle()\n",
    "        acc.append(logRegObj.progress(X_valid, data.valid_y, 'sgd_update')[1])\n",
    "    plt.plot(numIter, acc, label = i)\n",
    "plt.legend(loc=\"lower right\")\n",
    "plt.title(\"Accuracy on the validation set for SGD\")\n",
    "plt.xlabel(\"Epoch number\")\n",
    "plt.ylabel(\"Accuracy\")\n",
    "plt.show()\n",
    "#raise NotImplementedError()"
   ]
  },
  {
   "cell_type": "markdown",
   "metadata": {},
   "source": [
    "**Q:** After completing the class above, loop over the training data and perform ___mini batch gradient descent___ for 10 epochs, and five different values of eta range [.0001, .01, .1, .5, 1]. Train your model and do the following:\n",
    "\n",
    "* [2.5 pts] PART C : Create a new classifier object and Using the `progress` method, calculate the accuracy on the __training sets__ at the end of each epoch and store it. Plot the accuracy trends for the different values of eta on same graph.\n",
    "\n",
    "* [2.5 pts] PART D : Create a new classifier object and Using the `progress` method, calculate the accuracy on the __validation set__ at the end of each epoch and store it. Plot the accuracy trends for the different values of eta on same graph.\n",
    "\n",
    "Don't forget to shuffle your training data after each epoch."
   ]
  },
  {
   "cell_type": "markdown",
   "metadata": {},
   "source": [
    "Implement part C below. DO NOT DELETE THE CELL"
   ]
  },
  {
   "cell_type": "code",
   "execution_count": 13,
   "metadata": {
    "deletable": false,
    "nbgrader": {
     "cell_type": "code",
     "checksum": "7aed5aa63ce920693892ad8525ba0174",
     "grade": true,
     "grade_id": "cell-52542793c69f29c3",
     "locked": false,
     "points": 2.5,
     "schema_version": 3,
     "solution": true,
     "task": false
    }
   },
   "outputs": [
    {
     "name": "stderr",
     "output_type": "stream",
     "text": [
      "/home/jat/anaconda3/lib/python3.7/site-packages/ipykernel_launcher.py:140: RuntimeWarning: divide by zero encountered in log\n",
      "/home/jat/anaconda3/lib/python3.7/site-packages/ipykernel_launcher.py:140: RuntimeWarning: invalid value encountered in multiply\n",
      "/home/jat/anaconda3/lib/python3.7/site-packages/ipykernel_launcher.py:40: RuntimeWarning: overflow encountered in exp\n"
     ]
    },
    {
     "data": {
      "image/png": "[encoded data removed]",
      "text/plain": [
       "<Figure size 432x288 with 1 Axes>"
      ]
     },
     "metadata": {
      "needs_background": "light"
     },
     "output_type": "display_data"
    }
   ],
   "source": [
    "#see above for comments on the logic (as it is similar to the first graph)\n",
    "etaVals = [.0001, .01, .1, .5, 1]\n",
    "acc = []\n",
    "numIter = np.linspace(1,10, 10)\n",
    "for i in etaVals:\n",
    "    acc = []\n",
    "    logRegObj = LogReg(X_train, data.train_y, i)\n",
    "    for j in range(0,10):\n",
    "        logRegObj.shuffle()\n",
    "        acc.append(logRegObj.progress(X_train, data.train_y, 'mini_batch_update', 50)[1])\n",
    "    plt.plot(numIter, acc, label = i)\n",
    "plt.legend(loc=\"lower right\")\n",
    "plt.title(\"Accuracy on the train set for mini-batch update\")\n",
    "plt.xlabel(\"Epoch number\")\n",
    "plt.ylabel(\"Accuracy\")\n",
    "plt.show()"
   ]
  },
  {
   "cell_type": "markdown",
   "metadata": {},
   "source": [
    "Implement part D below. DO NOT DELETE THE CELL"
   ]
  },
  {
   "cell_type": "code",
   "execution_count": 14,
   "metadata": {
    "deletable": false,
    "nbgrader": {
     "cell_type": "code",
     "checksum": "6476b7a70a099d872b9939d68f8da698",
     "grade": true,
     "grade_id": "cell-d02f5de2e6a3f212",
     "locked": false,
     "points": 2.5,
     "schema_version": 3,
     "solution": true,
     "task": false
    }
   },
   "outputs": [
    {
     "name": "stderr",
     "output_type": "stream",
     "text": [
      "/home/jat/anaconda3/lib/python3.7/site-packages/ipykernel_launcher.py:140: RuntimeWarning: divide by zero encountered in log\n",
      "/home/jat/anaconda3/lib/python3.7/site-packages/ipykernel_launcher.py:140: RuntimeWarning: invalid value encountered in multiply\n",
      "/home/jat/anaconda3/lib/python3.7/site-packages/ipykernel_launcher.py:40: RuntimeWarning: overflow encountered in exp\n"
     ]
    },
    {
     "data": {
      "image/png": "[encoded data removed]",
      "text/plain": [
       "<Figure size 432x288 with 1 Axes>"
      ]
     },
     "metadata": {
      "needs_background": "light"
     },
     "output_type": "display_data"
    }
   ],
   "source": [
    "#see above for comments on the logic (as it is similar to the first graph)\n",
    "etaVals = [.0001, .01, .1, .5, 1]\n",
    "acc = []\n",
    "numIter = np.linspace(1,10, 10)\n",
    "for i in etaVals:\n",
    "    acc = []\n",
    "    logRegObj = LogReg(X_train, data.train_y, i)\n",
    "    for j in range(0,10):\n",
    "        logRegObj.shuffle()\n",
    "        acc.append(logRegObj.progress(X_valid, data.valid_y, 'mini_batch_update', 50)[1])\n",
    "    plt.plot(numIter, acc, label = i)\n",
    "plt.legend(loc=\"lower right\")\n",
    "plt.title(\"Accuracy on the validation set for mini-batch update\")\n",
    "plt.xlabel(\"Epoch number\")\n",
    "plt.ylabel(\"Accuracy\")\n",
    "plt.show()\n",
    "#Do this becuase I don't have a lot of RAM\n",
    "del(logRegObj)"
   ]
  },
  {
   "cell_type": "markdown",
   "metadata": {},
   "source": [
    "**Q:** [5 pts] Describe the role of learning rate (eta) on the efficiency of convergence during training?"
   ]
  },
  {
   "cell_type": "markdown",
   "metadata": {
    "deletable": false,
    "nbgrader": {
     "cell_type": "markdown",
     "checksum": "4803267a54ce015791ce3a8f6ac01e7a",
     "grade": true,
     "grade_id": "cell-672c3d3d77a18ef1",
     "locked": false,
     "points": 5,
     "schema_version": 3,
     "solution": true,
     "task": false
    }
   },
   "source": [
    "The learning rate appears to affect the variance of the accuracy. For instance, when eta = .00001 we are still increasing accuracy with each step, just not as fast as we would like. Eta = .01 appears to be a sweet spot in that it gets high accuracy quickly, and stays at that high accuracy. Anything higher than Eta = .01 appear to step over the minimum at least once, decreasing the accuracy sporatically as it keeps over shooting the minimum."
   ]
  },
  {
   "cell_type": "markdown",
   "metadata": {},
   "source": [
    "**Q:** [5 pts] Describe the role of the number of epochs on validation accuracy?"
   ]
  },
  {
   "cell_type": "markdown",
   "metadata": {
    "deletable": false,
    "nbgrader": {
     "cell_type": "markdown",
     "checksum": "673287df57a6b4ddc1a7073723c5686a",
     "grade": true,
     "grade_id": "cell-2aebead81356b6ec",
     "locked": false,
     "points": 5,
     "schema_version": 3,
     "solution": true,
     "task": false
    }
   },
   "source": [
    "Generally (for step sizes sufficiently small so that we don't get strange behavior) each epoch monotonically increases the accuracy. This should make sense, because we are trying to minimize the -log likelihood, so each time we step in the negative gradient direction we should be increasing the likelihood of our model, thus increasing the accuracy."
   ]
  },
  {
   "cell_type": "markdown",
   "metadata": {},
   "source": [
    "### [ 30 points] Problem 2: Implementing the Logistic Regression Classifier for Multinomial Classification\n",
    "\n",
    "You will not create a classifier that is commonly referred to as Multinomial Logistic Regression. The particular method you will be implementing is **One Vs All** or **One Vs Rest**. The dataset will be the MNIST dataset which includes all digits 0-9. You are free to use the functions you created above as needed.\n",
    "\n",
    "* [5 pts] 2.1 Normalize your data.\n",
    "* [5 pts] 2.2 Transform your outputs into a set of binary features via one-hot encoding.\n",
    "* [5 pts] 2.3 Write get_optimal_parameters - train all ten models at once.\n",
    "* [5 pts] 2.4 Calculate the accuracy of your model on Train and Test data.\n",
    "* [5 pts] 2.5 Generate a confusion matrix on test and train Data.\n",
    "* [5 pts] 2.6 Predict the labels of the first ten datapoints from your test set alongside the images of those same datapoints."
   ]
  },
  {
   "cell_type": "code",
   "execution_count": 15,
   "metadata": {},
   "outputs": [],
   "source": [
    "class Numbers2:\n",
    "    \"\"\"\n",
    "    Class to store MNIST data for images of 0-9\n",
    "    \"\"\" \n",
    "    def __init__(self, location):\n",
    "        # You shouldn't have to modify this class, but you can if you'd like\n",
    "        # Load the dataset\n",
    "        with gzip.open(location, 'rb') as f:\n",
    "            train_set, valid_set, test_set = pickle.load(f)\n",
    " \n",
    "        self.train_x, self.train_y = train_set\n",
    "        self.test_x, self.test_y = valid_set"
   ]
  },
  {
   "cell_type": "code",
   "execution_count": 16,
   "metadata": {},
   "outputs": [
    {
     "name": "stdout",
     "output_type": "stream",
     "text": [
      "[5 0 4 1 9 2 1 3 1 4]\n",
      "true label: 6\n"
     ]
    },
    {
     "data": {
      "image/png": "[encoded data removed]",
      "text/plain": [
       "<Figure size 432x288 with 1 Axes>"
      ]
     },
     "metadata": {
      "needs_background": "light"
     },
     "output_type": "display_data"
    }
   ],
   "source": [
    "data2 = Numbers2('./mnist.pklz')\n",
    "print(data2.train_y[:10])\n",
    "def view_digit(example, label=None):\n",
    "    if label is not None: print(\"true label: {:d}\".format(label))\n",
    "    plt.imshow(example.reshape(28,28), cmap='gray');\n",
    "view_digit(data2.train_x[18],data2.train_y[18])"
   ]
  },
  {
   "cell_type": "code",
   "execution_count": 17,
   "metadata": {},
   "outputs": [],
   "source": [
    "from sklearn import preprocessing\n",
    "\n",
    "class MultiLogReg:\n",
    "    \n",
    "    def __init__(self, X, y, eta = 0.1):\n",
    "        self.X = self.normalize_data(X)\n",
    "        self.y = self.one_hot_encoding(y)\n",
    "        self.eta = eta\n",
    "    \n",
    "    def getX(self):\n",
    "        # Only did this to save on RAM further down the line (my VM only has like 1GB of RAM to use). I'll use it\n",
    "        # So I don't have to store another instance of the dataset in memory\n",
    "        return(self.X)\n",
    "    \n",
    "    def one_hot_encoding(self, y):\n",
    "        # TO DO: Represent the output vector y as a one hot encoding. Create a matrix of dimensions (m X 10) \n",
    "        # where m = number of examples, and 10 for number of classes\n",
    "        # if the class for the ith example is 7, then y[i][7] = 1 and the for k != 7, y[i][k] = 0.\n",
    "        \n",
    "        #Initialize the matrix\n",
    "        m = np.zeros((len(y), 10))\n",
    "        #k keeps track of the row we are on of our y matrix\n",
    "        k = 0\n",
    "        #construct the matrix\n",
    "        for i in np.nditer(y):\n",
    "            m[k,i] = 1\n",
    "            k += 1\n",
    "        return(m)\n",
    "    \n",
    "        \n",
    "    def normalize_data(self, X):\n",
    "        # TO DO: Normalize the feature values of dataset X using the mean and standard deviation of the respective features\n",
    "        \n",
    "        # I both normalize and scale to ensure that my columns are all unit vectors, with normal distributions\n",
    "        # This combats some size related errors in the data set\n",
    "        X[:, 1:X.shape[1]] = preprocessing.scale(X[:, 1:X.shape[1]])\n",
    "        X[:, 1:X.shape[1]] = preprocessing.normalize(X[:, 1:X.shape[1]])\n",
    "        return(X)\n",
    "    def get_optimal_parameters(self):\n",
    "        # TO DO: This is the main training loop. You will have to find the optimal weights for all 10 models\n",
    "        # Each model is fit to it's class which is (0-9), and the cost function will be against all of the other \n",
    "        # numbers \"the rest\".\n",
    "        \n",
    "        # Initialize a matrix to keep track of each of the the weights output by our logistic regression model\n",
    "        # The ith column will contain the weights for the ith model\n",
    "        optWeights = np.zeros((self.X.shape[1], 10))\n",
    "        # This vector will hold the all vs 1 representation of our responce variable (ie 1 if response = the class\n",
    "        # we are looking for 0 otherwise)\n",
    "        allVOne = np.zeros(self.X.shape[0])\n",
    "        #Use a hold out set: 80% for training 20% for validation\n",
    "        trainingSet = self.X[0:int(np.floor(.8*len(allVOne))), :]\n",
    "        holdSet = self.X[int(np.floor(.8*len(allVOne))+1):len(allVOne), :]\n",
    "        for i in range(0, 10):\n",
    "            # Populate our vector for each class to train it (with allVOne[j] = 1 if the corresponding class we are\n",
    "            # training on is the class of observation j, and zero otherwise)\n",
    "            for j in range(0, self.X.shape[0]):\n",
    "                if self.y[j,i] == 1:\n",
    "                    allVOne[j] = 1\n",
    "                else:\n",
    "                    allVOne[j] = 0\n",
    "            # make a logistic regression model to train\n",
    "            obj = LogReg(trainingSet, allVOne[0:int(np.floor(.8*len(allVOne)))], self.eta)\n",
    "            oldAcc = 0\n",
    "            obj.shuffle()\n",
    "            newAcc = obj.progress(holdSet, allVOne[int(np.floor(.8*len(allVOne)))+\n",
    "                                                                1:len(allVOne)], \"mini_batch_update\",250)[1]\n",
    "            # Fit the model, stopping when we start getting diminishing returns in accuracy in the hold out set\n",
    "            while np.abs(newAcc - oldAcc) > .001:\n",
    "                obj.shuffle()\n",
    "                oldAcc = newAcc\n",
    "                newAcc = obj.progress(holdSet, allVOne[int(np.floor(.8*len(allVOne)))+\n",
    "                                                                    1:len(allVOne)], \"mini_batch_update\",250)[1]\n",
    "            #record what we found to be the optimal weights\n",
    "            optWeights[:, i] = obj.w\n",
    "        return(optWeights)\n",
    "    \n",
    "    #Both of these functions taken from LogReg class, will be used in predict, only added a w param in calculate_score\n",
    "    def calculate_score(self, x, w):\n",
    "        \"\"\"\n",
    "        :param x: This can be a single training example or it could be n training examples\n",
    "        :param w: the weights (EDITED TO INCLUDE THIS)\n",
    "        :return score: Calculate the score that you will plug into the logistic function\n",
    "        \"\"\"\n",
    "        # TODO: Compute the score to be fed to the sigmoid function\n",
    "        score = np.dot(w, np.transpose(x))\n",
    "        return(score)\n",
    "    \n",
    "    def sigmoid(self, score):\n",
    "        \"\"\"\n",
    "        :param score: Either a real valued number or a vector to convert into a number between 0 and 1\n",
    "        :return sigmoid: Calcuate the output of applying the sigmoid function to the score. This could be a single\n",
    "        value or a vector depending on the input\n",
    "        \"\"\"\n",
    "        # TODO: Complete this function to return the output of applying the sigmoid function to the score\n",
    "        sigmoid = 1/(1+np.exp(-score))\n",
    "        return(sigmoid)\n",
    "    def predict(self, test_image, test_label, models = np.zeros((2,2))):\n",
    "        # TO DO: This function should return the probabilities predicted by each of the models for some given \n",
    "        # input image. The probabilities are sorted with the most likely being listed first.\n",
    "        # Return a vector of shape (10, 2) with the first column holding the number and the second column with\n",
    "        # the probability that the test_image is that number\n",
    "        \n",
    "        # If we have not prefitted the models: fit the models\n",
    "        if models.all() == 0:\n",
    "            models = self.get_optimal_parameters()\n",
    "        # Initialize the matrix of probabilities and corresponding class\n",
    "        probs = np.zeros((10,2))\n",
    "        # Calculate the probability of each class using the test_image\n",
    "        for i in range(0, models.shape[1]):\n",
    "            probs[i,0] = i\n",
    "            #Use the ith column of our models matrix for the weights of the ith model\n",
    "            probs[i,1] = self.sigmoid(self.calculate_score(test_image, models[:, i]))\n",
    "        #sort in descending order and return\n",
    "        return probs[(-1*probs[:,1]).argsort()]"
   ]
  },
  {
   "cell_type": "code",
   "execution_count": 18,
   "metadata": {
    "deletable": false,
    "editable": false,
    "nbgrader": {
     "cell_type": "code",
     "checksum": "7a9848ee01129a955b176d30e8b5ad7b",
     "grade": true,
     "grade_id": "cell-6b2210e74f243cc5",
     "locked": true,
     "points": 5,
     "schema_version": 3,
     "solution": false,
     "task": false
    }
   },
   "outputs": [],
   "source": [
    "# DO NOT DELETE THIS CELL !!!"
   ]
  },
  {
   "cell_type": "code",
   "execution_count": 19,
   "metadata": {
    "deletable": false,
    "editable": false,
    "nbgrader": {
     "cell_type": "code",
     "checksum": "0864f8ccc23364600d23825d74b4b805",
     "grade": true,
     "grade_id": "cell-c999e8642ad56c95",
     "locked": true,
     "points": 5,
     "schema_version": 3,
     "solution": false,
     "task": false
    }
   },
   "outputs": [],
   "source": [
    "# DO NOT DELETE THIS CELL !!!"
   ]
  },
  {
   "cell_type": "markdown",
   "metadata": {},
   "source": [
    "### QUESTION ###\n",
    "It is important to know how well your model did on the whole. You need to report the ___accuracy as a percentage___ on the training set and the test set from Numbers2. You should also plot a ___confusion matrix___ for both, just like you did on the last homework and mention the numbers that were misclassified the most. Finally use the predict method to predict the labels for the FIRST 10 instances from the test set, while also plotting the respective images for validation."
   ]
  },
  {
   "cell_type": "markdown",
   "metadata": {},
   "source": [
    "Train a MultiLogReg Model in the cell below. DO NOT DELETE THE CELL"
   ]
  },
  {
   "cell_type": "code",
   "execution_count": 20,
   "metadata": {
    "deletable": false,
    "nbgrader": {
     "cell_type": "code",
     "checksum": "6adc8b9ff983ac7fb1d90033bb0841fa",
     "grade": true,
     "grade_id": "cell-5a678a51a11b6ce8",
     "locked": false,
     "points": 5,
     "schema_version": 3,
     "solution": true,
     "task": false
    },
    "scrolled": true
   },
   "outputs": [],
   "source": [
    "#Kept getting dead kernels if these variables were already in the workspace when I ran this cell\n",
    "if \"models\" in locals() and \"X\" in locals() and \"testInstance\" in locals():\n",
    "    del(models)\n",
    "    del(testInstance)\n",
    "    del(X)\n",
    "# Append the bias\n",
    "\n",
    "X = np.append(np.ones((len(data2.train_y), 1)), data2.train_x, 1)\n",
    "#Train the models\n",
    "testInstance = MultiLogReg(X, data2.train_y, .1)\n",
    "del(X)\n",
    "models = testInstance.get_optimal_parameters()"
   ]
  },
  {
   "cell_type": "markdown",
   "metadata": {},
   "source": [
    "Compute the accuracy on the train and test data from Numbers2 using the model you trained above. DO NOT DELETE THE CELL"
   ]
  },
  {
   "cell_type": "code",
   "execution_count": 21,
   "metadata": {
    "deletable": false,
    "nbgrader": {
     "cell_type": "code",
     "checksum": "7216ab7a873dd1839e1ba8b783aec16e",
     "grade": true,
     "grade_id": "cell-f82d99c679208a96",
     "locked": false,
     "points": 5,
     "schema_version": 3,
     "solution": true,
     "task": false
    }
   },
   "outputs": [
    {
     "name": "stdout",
     "output_type": "stream",
     "text": [
      "Accuracy on the training set:\n",
      "0.90724\n",
      "Accuracy on the test set:\n",
      "0.9151\n"
     ]
    }
   ],
   "source": [
    "#Initialize a count of the number of data points our model got correct\n",
    "numCorrectTest = 0\n",
    "# Get the data on the training set\n",
    "train_x = testInstance.getX()\n",
    "# Normalize the test data\n",
    "test_x = np.append(np.ones((len(data2.test_y), 1)), data2.test_x, 1)\n",
    "test_x[:, 1:test_x.shape[1]] = preprocessing.scale(test_x[:, 1:test_x.shape[1]])\n",
    "test_x[:, 1:test_x.shape[1]] = preprocessing.normalize(test_x[:, 1:test_x.shape[1]])\n",
    "\n",
    "#for each data point check if our model is correct, increment numCorrectTest if we are\n",
    "for i in range(0,len(data2.test_y)):\n",
    "    temp = testInstance.predict(test_x[i,:], data2.test_y[i], models)\n",
    "    #Because temp is sorted in decreasing order of accuracy we need only look at 0,0\n",
    "    if temp[0,0] == data2.test_y[i]:\n",
    "        numCorrectTest += 1\n",
    "#Similar to above, but for the training set\n",
    "numCorrectTrain = 0\n",
    "for i in range(0,len(data2.train_y)):\n",
    "    temp = testInstance.predict(train_x[i,:], data2.train_y[i], models)\n",
    "    if temp[0,0] == data2.train_y[i]:\n",
    "        numCorrectTrain += 1\n",
    "#Print out the accuracies\n",
    "print(\"Accuracy on the training set:\")\n",
    "print(numCorrectTrain/len(data2.train_y))\n",
    "print(\"Accuracy on the test set:\")\n",
    "print(numCorrectTest/len(data2.test_y))\n",
    "    "
   ]
  },
  {
   "cell_type": "markdown",
   "metadata": {},
   "source": [
    "Plot the confusion matrix on Test and Train Data using the model you trained before. DO NOT DELETE THE CELL"
   ]
  },
  {
   "cell_type": "code",
   "execution_count": 22,
   "metadata": {
    "deletable": false,
    "nbgrader": {
     "cell_type": "code",
     "checksum": "12ad7b3162aa14d26a16359ea6b937e7",
     "grade": true,
     "grade_id": "cell-99273a4c41cde194",
     "locked": false,
     "points": 5,
     "schema_version": 3,
     "solution": true,
     "task": false
    }
   },
   "outputs": [
    {
     "name": "stdout",
     "output_type": "stream",
     "text": [
      "Confusion Matrix for the Training Set:\n",
      "[[4786.    2.   48.   28.    6.   73.   42.   32.   48.   44.]\n",
      " [   2. 5485.   47.   39.   26.   41.   19.   53.  160.   26.]\n",
      " [  18.   34. 4362.  126.   36.   24.   47.   55.   51.   20.]\n",
      " [  12.   18.   85. 4509.   14.  183.    2.   25.  119.   92.]\n",
      " [  11.    5.   68.    8. 4436.   51.   22.   61.   22.  140.]\n",
      " [  18.   28.   10.  130.   13. 3807.   56.   10.  132.   26.]\n",
      " [  43.   12.  120.   26.   58.  103. 4720.    6.   45.    4.]\n",
      " [   3.   13.   86.   79.   12.   19.    3. 4719.   19.  210.]\n",
      " [  38.   74.  124.  106.   52.  146.   39.   14. 4166.   54.]\n",
      " [   1.    7.   18.   50.  206.   59.    1.  200.   80. 4372.]]\n",
      "Confusion Matrix for the Test Set:\n",
      "[[ 962.    0.    6.    7.    2.   14.    3.   11.    5.    9.]\n",
      " [   0. 1034.    8.    5.   11.    4.    4.   11.   37.    9.]\n",
      " [   5.    4.  887.   13.    2.   12.   13.    5.   10.    2.]\n",
      " [   2.    5.   18.  919.    2.   48.    0.   12.   26.   16.]\n",
      " [   2.    1.   12.    1.  915.    2.    6.    6.    1.   21.]\n",
      " [   2.    3.    5.   33.    1.  759.    2.    0.   26.    3.]\n",
      " [   8.    4.   15.    7.    4.   29.  935.    0.    6.    1.]\n",
      " [   4.    1.   17.    5.    2.    7.    0. 1017.    7.   33.]\n",
      " [   6.   12.   18.   29.    7.   29.    4.    1.  865.    9.]\n",
      " [   0.    0.    4.   11.   37.   11.    0.   27.   26.  858.]]\n"
     ]
    }
   ],
   "source": [
    "#initialize a confusion matrix of the correct size\n",
    "confusionTrain = np.zeros((10,10))\n",
    "#For each data point in the training set increment out matrix using the rows as the predicted value, and the \n",
    "#columns as the actual values\n",
    "for i in range(0,len(data2.train_y)):\n",
    "    temp = testInstance.predict(train_x[i,:], data2.train_y[i], models)\n",
    "    confusionTrain[int(temp[0,0]), data2.train_y[i]] += 1\n",
    "#Suppress scientific notation to more easily view the matrix\n",
    "np.set_printoptions(suppress=True)\n",
    "print(\"Confusion Matrix for the Training Set:\")\n",
    "print(confusionTrain)\n",
    "\n",
    "#Similar to above but for the test set\n",
    "confusionTest = np.zeros((10,10))\n",
    "for i in range(0,len(data2.test_y)):\n",
    "    temp = testInstance.predict(test_x[i,:], data2.test_y[i], models)\n",
    "    confusionTest[int(temp[0,0]), data2.test_y[i]] += 1\n",
    "np.set_printoptions(suppress=True)\n",
    "print(\"Confusion Matrix for the Test Set:\")\n",
    "print(confusionTest)"
   ]
  },
  {
   "cell_type": "markdown",
   "metadata": {},
   "source": [
    "Predict Labels of First 10 datapoints from your test set and also the plot their images in the cell below. DO NOT DELETE THE CELL"
   ]
  },
  {
   "cell_type": "code",
   "execution_count": 23,
   "metadata": {
    "deletable": false,
    "nbgrader": {
     "cell_type": "code",
     "checksum": "357ff8dee98adb78a768e9f690b3245d",
     "grade": true,
     "grade_id": "cell-2ae148d5cb9b50b2",
     "locked": false,
     "points": 5,
     "schema_version": 3,
     "solution": true,
     "task": false
    },
    "scrolled": false
   },
   "outputs": [
    {
     "name": "stdout",
     "output_type": "stream",
     "text": [
      "true label: 3\n",
      "predicted label: \n",
      "3.0\n"
     ]
    },
    {
     "data": {
      "image/png": "[encoded data removed]",
      "text/plain": [
       "<Figure size 432x288 with 1 Axes>"
      ]
     },
     "metadata": {
      "needs_background": "light"
     },
     "output_type": "display_data"
    },
    {
     "name": "stdout",
     "output_type": "stream",
     "text": [
      "true label: 8\n",
      "predicted label: \n",
      "8.0\n"
     ]
    },
    {
     "data": {
      "image/png": "[encoded data removed]",
      "text/plain": [
       "<Figure size 432x288 with 1 Axes>"
      ]
     },
     "metadata": {
      "needs_background": "light"
     },
     "output_type": "display_data"
    },
    {
     "name": "stdout",
     "output_type": "stream",
     "text": [
      "true label: 6\n",
      "predicted label: \n",
      "6.0\n"
     ]
    },
    {
     "data": {
      "image/png": "[encoded data removed]",
      "text/plain": [
       "<Figure size 432x288 with 1 Axes>"
      ]
     },
     "metadata": {
      "needs_background": "light"
     },
     "output_type": "display_data"
    },
    {
     "name": "stdout",
     "output_type": "stream",
     "text": [
      "true label: 9\n",
      "predicted label: \n",
      "9.0\n"
     ]
    },
    {
     "data": {
      "image/png": "[encoded data removed]",
      "text/plain": [
       "<Figure size 432x288 with 1 Axes>"
      ]
     },
     "metadata": {
      "needs_background": "light"
     },
     "output_type": "display_data"
    },
    {
     "name": "stdout",
     "output_type": "stream",
     "text": [
      "true label: 6\n",
      "predicted label: \n",
      "6.0\n"
     ]
    },
    {
     "data": {
      "image/png": "[encoded data removed]",
      "text/plain": [
       "<Figure size 432x288 with 1 Axes>"
      ]
     },
     "metadata": {
      "needs_background": "light"
     },
     "output_type": "display_data"
    },
    {
     "name": "stdout",
     "output_type": "stream",
     "text": [
      "true label: 4\n",
      "predicted label: \n",
      "4.0\n"
     ]
    },
    {
     "data": {
      "image/png": "[encoded data removed]",
      "text/plain": [
       "<Figure size 432x288 with 1 Axes>"
      ]
     },
     "metadata": {
      "needs_background": "light"
     },
     "output_type": "display_data"
    },
    {
     "name": "stdout",
     "output_type": "stream",
     "text": [
      "true label: 5\n",
      "predicted label: \n",
      "5.0\n"
     ]
    },
    {
     "data": {
      "image/png": "[encoded data removed]",
      "text/plain": [
       "<Figure size 432x288 with 1 Axes>"
      ]
     },
     "metadata": {
      "needs_background": "light"
     },
     "output_type": "display_data"
    },
    {
     "name": "stdout",
     "output_type": "stream",
     "text": [
      "true label: 3\n",
      "predicted label: \n",
      "5.0\n"
     ]
    },
    {
     "data": {
      "image/png": "[encoded data removed]",
      "text/plain": [
       "<Figure size 432x288 with 1 Axes>"
      ]
     },
     "metadata": {
      "needs_background": "light"
     },
     "output_type": "display_data"
    },
    {
     "name": "stdout",
     "output_type": "stream",
     "text": [
      "true label: 8\n",
      "predicted label: \n",
      "8.0\n"
     ]
    },
    {
     "data": {
      "image/png": "[encoded data removed]",
      "text/plain": [
       "<Figure size 432x288 with 1 Axes>"
      ]
     },
     "metadata": {
      "needs_background": "light"
     },
     "output_type": "display_data"
    },
    {
     "name": "stdout",
     "output_type": "stream",
     "text": [
      "true label: 4\n",
      "predicted label: \n",
      "4.0\n"
     ]
    },
    {
     "data": {
      "image/png": "[encoded data removed]",
      "text/plain": [
       "<Figure size 432x288 with 1 Axes>"
      ]
     },
     "metadata": {
      "needs_background": "light"
     },
     "output_type": "display_data"
    },
    {
     "data": {
      "text/plain": [
       "<Figure size 432x288 with 0 Axes>"
      ]
     },
     "metadata": {},
     "output_type": "display_data"
    }
   ],
   "source": [
    "# plot each digit along with its acutal class, and predicted class\n",
    "for i in range(0,10):\n",
    "    view_digit(data2.test_x[i], data2.test_y[i])\n",
    "    print(\"predicted label: \")\n",
    "    temp = testInstance.predict(test_x[i,:], data2.test_y[i], models)\n",
    "    print(temp[0,0])\n",
    "    plt.show()\n",
    "    plt.figure(i+1)"
   ]
  },
  {
   "cell_type": "code",
   "execution_count": null,
   "metadata": {},
   "outputs": [],
   "source": []
  }
 ],
 "metadata": {
  "kernelspec": {
   "display_name": "Python 3",
   "language": "python",
   "name": "python3"
  },
  "language_info": {
   "codemirror_mode": {
    "name": "ipython",
    "version": 3
   },
   "file_extension": ".py",
   "mimetype": "text/x-python",
   "name": "python",
   "nbconvert_exporter": "python",
   "pygments_lexer": "ipython3",
   "version": "3.7.6"
  }
 },
 "nbformat": 4,
 "nbformat_minor": 2
}
